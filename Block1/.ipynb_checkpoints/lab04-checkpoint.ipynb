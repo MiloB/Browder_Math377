{
 "cells": [
  {
   "cell_type": "markdown",
   "metadata": {},
   "source": [
    "# Functions and Visualizations"
   ]
  },
  {
   "cell_type": "markdown",
   "metadata": {},
   "source": [
    "Welcome to lab 4! This week, we'll learn about functions and the table method `apply` from [Section 8.1](https://www.inferentialthinking.com/chapters/08/1/applying-a-function-to-a-column.html).  We'll also learn about visualization from [Chapter 7](https://www.inferentialthinking.com/chapters/07/visualization.html).\n",
    "\n",
    "First, set up the tests and imports by running the cell below."
   ]
  },
  {
   "cell_type": "code",
   "execution_count": 1,
   "metadata": {},
   "outputs": [],
   "source": [
    "import numpy as np\n",
    "from datascience import *\n",
    "\n",
    "# These lines set up graphing capabilities.\n",
    "import matplotlib\n",
    "%matplotlib inline\n",
    "import matplotlib.pyplot as plt\n",
    "plt.style.use('fivethirtyeight')\n",
    "import warnings\n",
    "warnings.simplefilter('ignore', FutureWarning)\n",
    "\n",
    "from ipywidgets import interact, interactive, fixed, interact_manual\n",
    "import ipywidgets as widgets\n"
   ]
  },
  {
   "cell_type": "markdown",
   "metadata": {},
   "source": [
    "## 1. Functions and CEO Incomes\n",
    "\n",
    "Let's start with a real data analysis task.  We'll look at the 2015 compensation of CEOs at the 100 largest companies in California.  The data were compiled for a Los Angeles Times analysis [here](http://spreadsheets.latimes.com/california-ceo-compensation/), and ultimately came from [filings](https://www.sec.gov/answers/proxyhtf.htm) mandated by the SEC from all publicly-traded companies.  Two companies have two CEOs, so there are 102 CEOs in the dataset.\n",
    "\n",
    "We've copied the data in raw form from the LA Times page into a file called `raw_compensation.csv`.  (The page notes that all dollar amounts are in millions of dollars.)"
   ]
  },
  {
   "cell_type": "code",
   "execution_count": 2,
   "metadata": {},
   "outputs": [
    {
     "data": {
      "text/html": [
       "<table border=\"1\" class=\"dataframe\">\n",
       "    <thead>\n",
       "        <tr>\n",
       "            <th>Rank</th> <th>Name</th> <th>Company (Headquarters)</th> <th>Total Pay</th> <th>% Change</th> <th>Cash Pay</th> <th>Equity Pay</th> <th>Other Pay</th> <th>Ratio of CEO pay to average industry worker pay</th>\n",
       "        </tr>\n",
       "    </thead>\n",
       "    <tbody>\n",
       "        <tr>\n",
       "            <td>1   </td> <td>Mark V. Hurd*     </td> <td>Oracle (Redwood City)         </td> <td>$53.25   </td> <td>(No previous year)</td> <td>$0.95   </td> <td>$52.27    </td> <td>$0.02    </td> <td>362                                            </td>\n",
       "        </tr>\n",
       "        <tr>\n",
       "            <td>2   </td> <td>Safra A. Catz*    </td> <td>Oracle (Redwood City)         </td> <td>$53.24   </td> <td>(No previous year)</td> <td>$0.95   </td> <td>$52.27    </td> <td>$0.02    </td> <td>362                                            </td>\n",
       "        </tr>\n",
       "        <tr>\n",
       "            <td>3   </td> <td>Robert A. Iger    </td> <td>Walt Disney (Burbank)         </td> <td>$44.91   </td> <td>-3%               </td> <td>$24.89  </td> <td>$17.28    </td> <td>$2.74    </td> <td>477                                            </td>\n",
       "        </tr>\n",
       "        <tr>\n",
       "            <td>4   </td> <td>Marissa A. Mayer  </td> <td>Yahoo! (Sunnyvale)            </td> <td>$35.98   </td> <td>-15%              </td> <td>$1.00   </td> <td>$34.43    </td> <td>$0.55    </td> <td>342                                            </td>\n",
       "        </tr>\n",
       "        <tr>\n",
       "            <td>5   </td> <td>Marc Benioff      </td> <td>salesforce.com (San Francisco)</td> <td>$33.36   </td> <td>-16%              </td> <td>$4.65   </td> <td>$27.26    </td> <td>$1.45    </td> <td>338                                            </td>\n",
       "        </tr>\n",
       "        <tr>\n",
       "            <td>6   </td> <td>John H. Hammergren</td> <td>McKesson (San Francisco)      </td> <td>$24.84   </td> <td>-4%               </td> <td>$12.10  </td> <td>$12.37    </td> <td>$0.37    </td> <td>222                                            </td>\n",
       "        </tr>\n",
       "        <tr>\n",
       "            <td>7   </td> <td>John S. Watson    </td> <td>Chevron (San Ramon)           </td> <td>$22.04   </td> <td>-15%              </td> <td>$4.31   </td> <td>$14.68    </td> <td>$3.05    </td> <td>183                                            </td>\n",
       "        </tr>\n",
       "        <tr>\n",
       "            <td>8   </td> <td>Jeffrey Weiner    </td> <td>LinkedIn (Mountain View)      </td> <td>$19.86   </td> <td>27%               </td> <td>$2.47   </td> <td>$17.26    </td> <td>$0.13    </td> <td>182                                            </td>\n",
       "        </tr>\n",
       "        <tr>\n",
       "            <td>9   </td> <td>John T. Chambers**</td> <td>Cisco Systems (San Jose)      </td> <td>$19.62   </td> <td>19%               </td> <td>$5.10   </td> <td>$14.51    </td> <td>$0.01    </td> <td>170                                            </td>\n",
       "        </tr>\n",
       "        <tr>\n",
       "            <td>10  </td> <td>John G. Stumpf    </td> <td>Wells Fargo  (San Francisco)  </td> <td>$19.32   </td> <td>-10%              </td> <td>$6.80   </td> <td>$12.50    </td> <td>$0.02    </td> <td>256                                            </td>\n",
       "        </tr>\n",
       "    </tbody>\n",
       "</table>\n",
       "<p>... (92 rows omitted)</p>"
      ],
      "text/plain": [
       "Rank | Name               | Company (Headquarters)         | Total Pay | % Change           | Cash Pay | Equity Pay | Other Pay | Ratio of CEO pay to average industry worker pay\n",
       "1    | Mark V. Hurd*      | Oracle (Redwood City)          | $53.25    | (No previous year) | $0.95    | $52.27     | $0.02     | 362\n",
       "2    | Safra A. Catz*     | Oracle (Redwood City)          | $53.24    | (No previous year) | $0.95    | $52.27     | $0.02     | 362\n",
       "3    | Robert A. Iger     | Walt Disney (Burbank)          | $44.91    | -3%                | $24.89   | $17.28     | $2.74     | 477\n",
       "4    | Marissa A. Mayer   | Yahoo! (Sunnyvale)             | $35.98    | -15%               | $1.00    | $34.43     | $0.55     | 342\n",
       "5    | Marc Benioff       | salesforce.com (San Francisco) | $33.36    | -16%               | $4.65    | $27.26     | $1.45     | 338\n",
       "6    | John H. Hammergren | McKesson (San Francisco)       | $24.84    | -4%                | $12.10   | $12.37     | $0.37     | 222\n",
       "7    | John S. Watson     | Chevron (San Ramon)            | $22.04    | -15%               | $4.31    | $14.68     | $3.05     | 183\n",
       "8    | Jeffrey Weiner     | LinkedIn (Mountain View)       | $19.86    | 27%                | $2.47    | $17.26     | $0.13     | 182\n",
       "9    | John T. Chambers** | Cisco Systems (San Jose)       | $19.62    | 19%                | $5.10    | $14.51     | $0.01     | 170\n",
       "10   | John G. Stumpf     | Wells Fargo  (San Francisco)   | $19.32    | -10%               | $6.80    | $12.50     | $0.02     | 256\n",
       "... (92 rows omitted)"
      ]
     },
     "execution_count": 2,
     "metadata": {},
     "output_type": "execute_result"
    }
   ],
   "source": [
    "raw_compensation = Table.read_table('raw_compensation.csv')\n",
    "raw_compensation"
   ]
  },
  {
   "cell_type": "markdown",
   "metadata": {},
   "source": [
    "**Question 1.1.** <br/> We want to compute the average of the CEOs' pay. Try running the cell below."
   ]
  },
  {
   "cell_type": "code",
   "execution_count": 3,
   "metadata": {},
   "outputs": [
    {
     "ename": "TypeError",
     "evalue": "cannot perform reduce with flexible type",
     "output_type": "error",
     "traceback": [
      "\u001b[1;31m---------------------------------------------------------------------------\u001b[0m",
      "\u001b[1;31mTypeError\u001b[0m                                 Traceback (most recent call last)",
      "\u001b[1;32m<ipython-input-3-f97fab5a8083>\u001b[0m in \u001b[0;36m<module>\u001b[1;34m()\u001b[0m\n\u001b[1;32m----> 1\u001b[1;33m \u001b[0mnp\u001b[0m\u001b[1;33m.\u001b[0m\u001b[0maverage\u001b[0m\u001b[1;33m(\u001b[0m\u001b[0mraw_compensation\u001b[0m\u001b[1;33m.\u001b[0m\u001b[0mcolumn\u001b[0m\u001b[1;33m(\u001b[0m\u001b[1;34m\"Total Pay\"\u001b[0m\u001b[1;33m)\u001b[0m\u001b[1;33m)\u001b[0m\u001b[1;33m\u001b[0m\u001b[0m\n\u001b[0m",
      "\u001b[1;32m~\\AppData\\Local\\Continuum\\anaconda3\\lib\\site-packages\\numpy\\lib\\function_base.py\u001b[0m in \u001b[0;36maverage\u001b[1;34m(a, axis, weights, returned)\u001b[0m\n\u001b[0;32m   1126\u001b[0m \u001b[1;33m\u001b[0m\u001b[0m\n\u001b[0;32m   1127\u001b[0m     \u001b[1;32mif\u001b[0m \u001b[0mweights\u001b[0m \u001b[1;32mis\u001b[0m \u001b[1;32mNone\u001b[0m\u001b[1;33m:\u001b[0m\u001b[1;33m\u001b[0m\u001b[0m\n\u001b[1;32m-> 1128\u001b[1;33m         \u001b[0mavg\u001b[0m \u001b[1;33m=\u001b[0m \u001b[0ma\u001b[0m\u001b[1;33m.\u001b[0m\u001b[0mmean\u001b[0m\u001b[1;33m(\u001b[0m\u001b[0maxis\u001b[0m\u001b[1;33m)\u001b[0m\u001b[1;33m\u001b[0m\u001b[0m\n\u001b[0m\u001b[0;32m   1129\u001b[0m         \u001b[0mscl\u001b[0m \u001b[1;33m=\u001b[0m \u001b[0mavg\u001b[0m\u001b[1;33m.\u001b[0m\u001b[0mdtype\u001b[0m\u001b[1;33m.\u001b[0m\u001b[0mtype\u001b[0m\u001b[1;33m(\u001b[0m\u001b[0ma\u001b[0m\u001b[1;33m.\u001b[0m\u001b[0msize\u001b[0m\u001b[1;33m/\u001b[0m\u001b[0mavg\u001b[0m\u001b[1;33m.\u001b[0m\u001b[0msize\u001b[0m\u001b[1;33m)\u001b[0m\u001b[1;33m\u001b[0m\u001b[0m\n\u001b[0;32m   1130\u001b[0m     \u001b[1;32melse\u001b[0m\u001b[1;33m:\u001b[0m\u001b[1;33m\u001b[0m\u001b[0m\n",
      "\u001b[1;32m~\\AppData\\Local\\Continuum\\anaconda3\\lib\\site-packages\\numpy\\core\\_methods.py\u001b[0m in \u001b[0;36m_mean\u001b[1;34m(a, axis, dtype, out, keepdims)\u001b[0m\n\u001b[0;32m     68\u001b[0m             \u001b[0mis_float16_result\u001b[0m \u001b[1;33m=\u001b[0m \u001b[1;32mTrue\u001b[0m\u001b[1;33m\u001b[0m\u001b[0m\n\u001b[0;32m     69\u001b[0m \u001b[1;33m\u001b[0m\u001b[0m\n\u001b[1;32m---> 70\u001b[1;33m     \u001b[0mret\u001b[0m \u001b[1;33m=\u001b[0m \u001b[0mumr_sum\u001b[0m\u001b[1;33m(\u001b[0m\u001b[0marr\u001b[0m\u001b[1;33m,\u001b[0m \u001b[0maxis\u001b[0m\u001b[1;33m,\u001b[0m \u001b[0mdtype\u001b[0m\u001b[1;33m,\u001b[0m \u001b[0mout\u001b[0m\u001b[1;33m,\u001b[0m \u001b[0mkeepdims\u001b[0m\u001b[1;33m)\u001b[0m\u001b[1;33m\u001b[0m\u001b[0m\n\u001b[0m\u001b[0;32m     71\u001b[0m     \u001b[1;32mif\u001b[0m \u001b[0misinstance\u001b[0m\u001b[1;33m(\u001b[0m\u001b[0mret\u001b[0m\u001b[1;33m,\u001b[0m \u001b[0mmu\u001b[0m\u001b[1;33m.\u001b[0m\u001b[0mndarray\u001b[0m\u001b[1;33m)\u001b[0m\u001b[1;33m:\u001b[0m\u001b[1;33m\u001b[0m\u001b[0m\n\u001b[0;32m     72\u001b[0m         ret = um.true_divide(\n",
      "\u001b[1;31mTypeError\u001b[0m: cannot perform reduce with flexible type"
     ]
    }
   ],
   "source": [
    "np.average(raw_compensation.column(\"Total Pay\"))"
   ]
  },
  {
   "cell_type": "markdown",
   "metadata": {},
   "source": [
    "You should see an error. Let's examine why this error occured by looking at the values in the \"Total Pay\" column. Use the `type` function and set `total_pay_type` to the type of the first value in the \"Total Pay\" column."
   ]
  },
  {
   "cell_type": "code",
   "execution_count": 4,
   "metadata": {},
   "outputs": [
    {
     "data": {
      "text/plain": [
       "numpy.str_"
      ]
     },
     "execution_count": 4,
     "metadata": {},
     "output_type": "execute_result"
    }
   ],
   "source": [
    "total_pay_type = type(raw_compensation.column(\"Total Pay\")[1])\n",
    "total_pay_type"
   ]
  },
  {
   "cell_type": "markdown",
   "metadata": {},
   "source": [
    "**Question 1.2.** <br/>You should have found that the values in \"Total Pay\" column are strings (text). It doesn't make sense to take the average of the text values, so we need to convert them to numbers if we want to do this. Extract the first value in the \"Total Pay\" column.  It's Mark Hurd's pay in 2015, in *millions* of dollars.  Call it `mark_hurd_pay_string`."
   ]
  },
  {
   "cell_type": "code",
   "execution_count": 5,
   "metadata": {},
   "outputs": [
    {
     "data": {
      "text/plain": [
       "'$53.25 '"
      ]
     },
     "execution_count": 5,
     "metadata": {},
     "output_type": "execute_result"
    }
   ],
   "source": [
    "mark_hurd_pay_string = raw_compensation.column(\"Total Pay\")[0]\n",
    "mark_hurd_pay_string"
   ]
  },
  {
   "cell_type": "markdown",
   "metadata": {},
   "source": [
    "**Question 1.3.** <br/>Convert `mark_hurd_pay_string` to a number of *dollars*.  The string method `strip` will be useful for removing the dollar sign; it removes a specified character from the start or end of a string.  For example, the value of `\"100%\".strip(\"%\")` is the string `\"100\"`.  You'll also need the function `float`, which converts a string that looks like a number to an actual number.  Last, remember that the answer should be in dollars, not millions of dollars."
   ]
  },
  {
   "cell_type": "code",
   "execution_count": 6,
   "metadata": {},
   "outputs": [
    {
     "data": {
      "text/plain": [
       "53250000.0"
      ]
     },
     "execution_count": 6,
     "metadata": {},
     "output_type": "execute_result"
    }
   ],
   "source": [
    "mark_hurd_pay = float(mark_hurd_pay_string.strip(\"$\"))*1000000\n",
    "mark_hurd_pay"
   ]
  },
  {
   "cell_type": "markdown",
   "metadata": {},
   "source": [
    "To compute the average pay, we need to do this for every CEO.  But that looks like it would involve copying this code 102 times.\n",
    "\n",
    "This is where functions come in.  First, we'll define a new function, giving a name to the expression that converts \"total pay\" strings to numeric values.  Later in this lab we'll see the payoff: we can call that function on every pay string in the dataset at once.\n",
    "\n",
    "**Question 1.4.** <br/>Copy the expression you used to compute `mark_hurd_pay` as the `return` expression of the function below, but replace the specific `mark_hurd_pay_string` with the generic `pay_string` name specified in the first line of the `def` statement.\n",
    "\n",
    "*Hint*: When dealing with functions, you should generally not be referencing any variable outside of the function. Usually, you want to be working with the arguments that are passed into it, such as `pay_string` for this function. "
   ]
  },
  {
   "cell_type": "code",
   "execution_count": 7,
   "metadata": {
    "for_assignment_type": "student"
   },
   "outputs": [],
   "source": [
    "def convert_pay_string_to_number(pay_string):\n",
    "    \"\"\"Converts a pay string like '$100' (in millions) to a number of dollars.\"\"\"\n",
    "    return float(pay_string.strip(\"$\"))*1000000"
   ]
  },
  {
   "cell_type": "markdown",
   "metadata": {},
   "source": [
    "Running that cell doesn't convert any particular pay string. Instead, it creates a function called `convert_pay_string_to_number` that can convert any string with the right format to a number representing millions of dollars.\n",
    "\n",
    "We can call our function just like we call the built-in functions we've seen. It takes one argument, a string, and it returns a number."
   ]
  },
  {
   "cell_type": "code",
   "execution_count": 8,
   "metadata": {},
   "outputs": [
    {
     "data": {
      "text/plain": [
       "42000000.0"
      ]
     },
     "execution_count": 8,
     "metadata": {},
     "output_type": "execute_result"
    }
   ],
   "source": [
    "convert_pay_string_to_number('$42')"
   ]
  },
  {
   "cell_type": "code",
   "execution_count": 9,
   "metadata": {},
   "outputs": [
    {
     "data": {
      "text/plain": [
       "53250000.0"
      ]
     },
     "execution_count": 9,
     "metadata": {},
     "output_type": "execute_result"
    }
   ],
   "source": [
    "convert_pay_string_to_number(mark_hurd_pay_string)"
   ]
  },
  {
   "cell_type": "code",
   "execution_count": 10,
   "metadata": {},
   "outputs": [
    {
     "data": {
      "text/plain": [
       "53240000.0"
      ]
     },
     "execution_count": 10,
     "metadata": {},
     "output_type": "execute_result"
    }
   ],
   "source": [
    "# We can also compute Safra Catz's pay in the same way:\n",
    "convert_pay_string_to_number(raw_compensation.where(\"Name\", are.containing(\"Safra\")).column(\"Total Pay\").item(0))"
   ]
  },
  {
   "cell_type": "markdown",
   "metadata": {},
   "source": [
    "So, what have we gained by defining the `convert_pay_string_to_number` function? \n",
    "Well, without it, we'd have to copy that `10**6 * float(pay_string.strip(\"$\"))` stuff each time we wanted to convert a pay string.  Now we just call a function whose name says exactly what it's doing.\n",
    "\n",
    "Soon, we'll see how to apply this function to every pay string in a single expression. First, let's take a brief detour and introduce `interact`."
   ]
  },
  {
   "cell_type": "markdown",
   "metadata": {},
   "source": [
    "### Using `interact`\n",
    "\n",
    "We've included a nifty function called `interact` that allows you to\n",
    "call a function with different arguments.\n",
    "\n",
    "To use it, call `interact` with the function you want to interact with as the\n",
    "first argument, then specify a default value for each argument of the original\n",
    "function like so:"
   ]
  },
  {
   "cell_type": "code",
   "execution_count": 11,
   "metadata": {},
   "outputs": [
    {
     "data": {
      "application/vnd.jupyter.widget-view+json": {
       "model_id": "d001c9e447624097990d40ec943034b9",
       "version_major": 2,
       "version_minor": 0
      },
      "text/plain": [
       "interactive(children=(Text(value='$42', description='pay_string'), Output()), _dom_classes=('widget-interact',…"
      ]
     },
     "metadata": {},
     "output_type": "display_data"
    }
   ],
   "source": [
    "_ = interact(convert_pay_string_to_number, pay_string='$42')"
   ]
  },
  {
   "cell_type": "markdown",
   "metadata": {},
   "source": [
    "You can now change the value in the textbox to automatically call\n",
    "`convert_pay_string_to_number` with the argument you enter in the `pay_string`\n",
    "textbox. For example, entering in `'$49'` in the textbox will display the result of\n",
    "running `convert_pay_string_to_number('$49')`. Neat!\n",
    "\n",
    "Note that we'll never ask you to write the `interact` function calls yourself as\n",
    "part of a question. However, we'll include it here and there where it's helpful\n",
    "and you'll probably find it useful to use yourself.\n",
    "\n",
    "Now, let's continue on and write more functions."
   ]
  },
  {
   "cell_type": "markdown",
   "metadata": {},
   "source": [
    "## 2. Defining functions\n",
    "\n",
    "Let's write a very simple function that converts a proportion to a percentage by multiplying it by 100.  For example, the value of `to_percentage(.5)` should be the number 50.  (No percent sign.)\n",
    "\n",
    "A function definition has a few parts.\n",
    "\n",
    "##### `def`\n",
    "It always starts with `def` (short for **def**ine):\n",
    "\n",
    "    def\n",
    "\n",
    "##### Name\n",
    "Next comes the name of the function.  Let's call our function `to_percentage`.\n",
    "    \n",
    "    def to_percentage\n",
    "\n",
    "##### Signature\n",
    "Next comes something called the *signature* of the function.  This tells Python how many arguments your function should have, and what names you'll use to refer to those arguments in the function's code.  `to_percentage` should take one argument, and we'll call that argument `proportion` since it should be a proportion.\n",
    "\n",
    "    def to_percentage(proportion)\n",
    "\n",
    "We put a colon after the signature to tell Python it's over.\n",
    "\n",
    "    def to_percentage(proportion):\n",
    "\n",
    "##### Documentation\n",
    "Functions can do complicated things, so you should write an explanation of what your function does.  For small functions, this is less important, but it's a good habit to learn from the start.  Conventionally, Python functions are documented by writing a triple-quoted string:\n",
    "\n",
    "    def to_percentage(proportion):\n",
    "        \"\"\"Converts a proportion to a percentage.\"\"\"\n",
    "    \n",
    "    \n",
    "##### Body\n",
    "Now we start writing code that runs when the function is called.  This is called the *body* of the function.  We can write anything we could write anywhere else.  First let's give a name to the number we multiply a proportion by to get a percentage.\n",
    "\n",
    "    def to_percentage(proportion):\n",
    "        \"\"\"Converts a proportion to a percentage.\"\"\"\n",
    "        factor = 100\n",
    "\n",
    "##### `return`\n",
    "The special instruction `return` in a function's body tells Python to make the value of the function call equal to whatever comes right after `return`.  We want the value of `to_percentage(.5)` to be the proportion .5 times the factor 100, so we write:\n",
    "\n",
    "    def to_percentage(proportion):\n",
    "        \"\"\"Converts a proportion to a percentage.\"\"\"\n",
    "        factor = 100\n",
    "        return proportion * factor\n",
    "Note that `return` inside a function gives the function a value, while `print`, which we have used before, is a function which has no `return` value and just prints a certain value out to the console. The two are very different. "
   ]
  },
  {
   "cell_type": "markdown",
   "metadata": {},
   "source": [
    "**Question 2.1.** <br/>Define `to_percentage` in the cell below.  Call your function to convert the proportion .2 to a percentage.  Name that percentage `twenty_percent`."
   ]
  },
  {
   "cell_type": "code",
   "execution_count": 12,
   "metadata": {
    "for_assignment_type": "student"
   },
   "outputs": [
    {
     "data": {
      "text/plain": [
       "<function __main__.to_percentage(proportion)>"
      ]
     },
     "execution_count": 12,
     "metadata": {},
     "output_type": "execute_result"
    }
   ],
   "source": [
    "def to_percentage(proportion):\n",
    "    \"\"\"convert proportion to percentage \"\"\"\n",
    "    factor=100\n",
    "    return factor*proportion\n",
    "\n",
    "twenty_percent = to_percentage\n",
    "twenty_percent"
   ]
  },
  {
   "cell_type": "markdown",
   "metadata": {},
   "source": [
    "Like the built-in functions, you can use named values as arguments to your function.\n",
    "\n",
    "**Question 2.2.** <br/>Use `to_percentage` again to convert the proportion named `a_proportion` (defined below) to a percentage called `a_percentage`.\n",
    "\n",
    "*Note:* You don't need to define `to_percentage` again!  Just like other named things, functions stick around after you define them."
   ]
  },
  {
   "cell_type": "code",
   "execution_count": 13,
   "metadata": {},
   "outputs": [
    {
     "data": {
      "text/plain": [
       "70.71067811865476"
      ]
     },
     "execution_count": 13,
     "metadata": {},
     "output_type": "execute_result"
    }
   ],
   "source": [
    "a_proportion = 2**(.5) / 2\n",
    "a_percentage = to_percentage(a_proportion)\n",
    "a_percentage"
   ]
  },
  {
   "cell_type": "markdown",
   "metadata": {},
   "source": [
    "Here's something important about functions: the names assigned within a function body are only accessible within the function body. Once the function has returned, those names are gone.  So even though you defined `factor = 100` inside `to_percentage` above and then called `to_percentage`, you cannot refer to `factor` anywhere except inside the body of `to_percentage`:"
   ]
  },
  {
   "cell_type": "code",
   "execution_count": 14,
   "metadata": {},
   "outputs": [
    {
     "ename": "NameError",
     "evalue": "name 'factor' is not defined",
     "output_type": "error",
     "traceback": [
      "\u001b[1;31m---------------------------------------------------------------------------\u001b[0m",
      "\u001b[1;31mNameError\u001b[0m                                 Traceback (most recent call last)",
      "\u001b[1;32m<ipython-input-14-a219be0dab32>\u001b[0m in \u001b[0;36m<module>\u001b[1;34m()\u001b[0m\n\u001b[0;32m      1\u001b[0m \u001b[1;31m# You should see an error when you run this.  (If you don't, you might\u001b[0m\u001b[1;33m\u001b[0m\u001b[1;33m\u001b[0m\u001b[0m\n\u001b[0;32m      2\u001b[0m \u001b[1;31m# have defined factor somewhere above.)\u001b[0m\u001b[1;33m\u001b[0m\u001b[1;33m\u001b[0m\u001b[0m\n\u001b[1;32m----> 3\u001b[1;33m \u001b[0mfactor\u001b[0m\u001b[1;33m\u001b[0m\u001b[0m\n\u001b[0m",
      "\u001b[1;31mNameError\u001b[0m: name 'factor' is not defined"
     ]
    }
   ],
   "source": [
    "# You should see an error when you run this.  (If you don't, you might\n",
    "# have defined factor somewhere above.)\n",
    "factor"
   ]
  },
  {
   "cell_type": "markdown",
   "metadata": {},
   "source": [
    "As we've seen with the built-in functions, functions can also take strings (or arrays, or tables) as arguments, and they can return those things, too.\n",
    "\n",
    "**Question 2.3.** <br/>Define a function called `disemvowel`.  It should take a single string as its argument.  (You can call that argument whatever you want.)  It should return a copy of that string, but with all the characters that are vowels removed.  (In English, the vowels are the characters \"a\", \"e\", \"i\", \"o\", and \"u\".)\n",
    "\n",
    "*Hint:* To remove all the \"a\"s from a string, you can use `that_string.replace(\"a\", \"\")`.  The `.replace` method for strings returns another string, so you can call `replace` multiple times, one after the other. "
   ]
  },
  {
   "cell_type": "code",
   "execution_count": 15,
   "metadata": {},
   "outputs": [
    {
     "data": {
      "text/plain": [
       "'Cn y rd ths wtht vwls?'"
      ]
     },
     "execution_count": 15,
     "metadata": {},
     "output_type": "execute_result"
    }
   ],
   "source": [
    "def disemvowel(a_string):\n",
    "    new_string=a_string.replace(\"a\",\"\").replace(\"e\",\"\").replace(\"i\",\"\").replace(\"o\",\"\").replace(\"u\",\"\")\n",
    "    return new_string\n",
    "\n",
    "# An example call to your function.  (It's often helpful to run\n",
    "# an example call from time to time while you're writing a function,\n",
    "# to see how it currently works.)\n",
    "disemvowel(\"Can you read this without vowels?\")"
   ]
  },
  {
   "cell_type": "code",
   "execution_count": 16,
   "metadata": {},
   "outputs": [
    {
     "data": {
      "application/vnd.jupyter.widget-view+json": {
       "model_id": "704f320a54e5448998c30b3883be4d77",
       "version_major": 2,
       "version_minor": 0
      },
      "text/plain": [
       "interactive(children=(Text(value='Hello world', description='a_string'), Output()), _dom_classes=('widget-inte…"
      ]
     },
     "metadata": {},
     "output_type": "display_data"
    }
   ],
   "source": [
    "# Alternatively, you can use interact to call your function\n",
    "_ = interact(disemvowel, a_string='Hello world')"
   ]
  },
  {
   "cell_type": "markdown",
   "metadata": {},
   "source": [
    "##### Calls on calls on calls\n",
    "Just as you write a series of lines to build up a complex computation, it's useful to define a series of small functions that build on each other.  Since you can write any code inside a function's body, you can call other functions you've written.\n",
    "\n",
    "If a function is a like a recipe, defining a function in terms of other functions is like having a recipe for cake telling you to follow another recipe to make the frosting, and another to make the sprinkles.  This makes the cake recipe shorter and clearer, and it avoids having a bunch of duplicated frosting recipes.  It's a foundation of productive programming.\n",
    "\n",
    "For example, suppose you want to count the number of characters *that aren't vowels* in a piece of text.  One way to do that is this to remove all the vowels and count the size of the remaining string.\n",
    "\n",
    "**Question 2.4.** <br/>Write a function called `num_non_vowels`.  It should take a string as its argument and return a number.  The number should be the number of characters in the argument string that aren't vowels.\n",
    "\n",
    "*Hint:* The function `len` takes a string as its argument and returns the number of characters in it."
   ]
  },
  {
   "cell_type": "code",
   "execution_count": 17,
   "metadata": {},
   "outputs": [],
   "source": [
    "def num_non_vowels(a_string):\n",
    "    \"\"\"The number of characters in a string, minus the vowels.\"\"\"\n",
    "    new_string=a_string.replace(\"a\",\"\").replace(\"e\",\"\").replace(\"i\",\"\").replace(\"o\",\"\").replace(\"u\",\"\")\n",
    "    count=len(new_string)\n",
    "    return count\n",
    "    \n",
    "\n",
    "# Try calling your function yourself to make sure the output is what\n",
    "# you expect. You can also use the interact function if you'd like."
   ]
  },
  {
   "cell_type": "markdown",
   "metadata": {},
   "source": [
    "Functions can also encapsulate code that *does things* rather than just computing values.  For example, if you call `print` inside a function, and then call that function, something will get printed.\n",
    "\n",
    "The `movies_by_year` dataset in the textbook has information about movie sales in recent years.  Suppose you'd like to display the year with the 5th-highest total gross movie sales, printed in a human-readable way.  You might do this:"
   ]
  },
  {
   "cell_type": "code",
   "execution_count": 18,
   "metadata": {},
   "outputs": [
    {
     "name": "stdout",
     "output_type": "stream",
     "text": [
      "Year number 5 for total gross movie sales was: 2010\n"
     ]
    }
   ],
   "source": [
    "movies_by_year = Table.read_table(\"movies_by_year.csv\")\n",
    "rank = 5\n",
    "fifth_from_top_movie_year = movies_by_year.sort(\"Total Gross\", descending=True).column(\"Year\").item(rank-1)\n",
    "print(\"Year number\", rank, \"for total gross movie sales was:\", fifth_from_top_movie_year)"
   ]
  },
  {
   "cell_type": "markdown",
   "metadata": {},
   "source": [
    "After writing this, you realize you also wanted to print out the 2nd and 3rd-highest years.  Instead of copying your code, you decide to put it in a function.  Since the rank varies, you make that an argument to your function.\n",
    "\n",
    "**Question 2.5.** <br/>Write a function called `print_kth_top_movie_year`.  It should take a single argument, the rank of the year (like 2, 3, or 5 in the above examples).  It should print out a message like the one above.  It shouldn't have a `return` statement."
   ]
  },
  {
   "cell_type": "code",
   "execution_count": 19,
   "metadata": {
    "for_assignment_type": "student"
   },
   "outputs": [
    {
     "name": "stdout",
     "output_type": "stream",
     "text": [
      "Year number 2 for total gross movie sales was: 2013\n",
      "Year number 3 for total gross movie sales was: 2012\n"
     ]
    }
   ],
   "source": [
    "def print_kth_top_movie_year(k):\n",
    "    # Our solution used 2 lines.\n",
    "    fifth_from_top_movie_year = movies_by_year.sort(\"Total Gross\", descending=True).column(\"Year\").item(k-1)\n",
    "    print(\"Year number\", k, \"for total gross movie sales was:\", fifth_from_top_movie_year)\n",
    "\n",
    "# Example calls to your function:\n",
    "print_kth_top_movie_year(2)\n",
    "print_kth_top_movie_year(3)"
   ]
  },
  {
   "cell_type": "code",
   "execution_count": 20,
   "metadata": {},
   "outputs": [
    {
     "data": {
      "application/vnd.jupyter.widget-view+json": {
       "model_id": "014b8ecb15634a718c379a69bc900790",
       "version_major": 2,
       "version_minor": 0
      },
      "text/plain": [
       "interactive(children=(Dropdown(description='k', options=(1, 2, 3, 4, 5, 6, 7, 8, 9), value=1), Output()), _dom…"
      ]
     },
     "metadata": {},
     "output_type": "display_data"
    }
   ],
   "source": [
    "# interact also allows you to pass in an array for a function argument. It will\n",
    "# then present a dropdown menu of options.\n",
    "_ = interact(print_kth_top_movie_year, k=np.arange(1, 10))"
   ]
  },
  {
   "cell_type": "markdown",
   "metadata": {},
   "source": [
    "## 3. `apply`ing functions\n",
    "\n",
    "Defining a function is a lot like giving a name to a value with `=`.  In fact, a function is a value just like the number 1 or the text \"the\"!\n",
    "\n",
    "For example, we can make a new name for the built-in function `max` if we want:"
   ]
  },
  {
   "cell_type": "code",
   "execution_count": 21,
   "metadata": {},
   "outputs": [
    {
     "data": {
      "text/plain": [
       "6"
      ]
     },
     "execution_count": 21,
     "metadata": {},
     "output_type": "execute_result"
    }
   ],
   "source": [
    "our_name_for_max = max\n",
    "our_name_for_max(2, 6)"
   ]
  },
  {
   "cell_type": "markdown",
   "metadata": {},
   "source": [
    "The old name for `max` is still around:"
   ]
  },
  {
   "cell_type": "code",
   "execution_count": 22,
   "metadata": {},
   "outputs": [
    {
     "data": {
      "text/plain": [
       "6"
      ]
     },
     "execution_count": 22,
     "metadata": {},
     "output_type": "execute_result"
    }
   ],
   "source": [
    "max(2, 6)"
   ]
  },
  {
   "cell_type": "markdown",
   "metadata": {},
   "source": [
    "Try just writing `max` or `our_name_for_max` (or the name of any other function) in a cell, and run that cell.  Python will print out a (very brief) description of the function."
   ]
  },
  {
   "cell_type": "code",
   "execution_count": 23,
   "metadata": {},
   "outputs": [
    {
     "data": {
      "text/plain": [
       "<function max>"
      ]
     },
     "execution_count": 23,
     "metadata": {},
     "output_type": "execute_result"
    }
   ],
   "source": [
    "max"
   ]
  },
  {
   "cell_type": "markdown",
   "metadata": {},
   "source": [
    "Why is this useful?  Since functions are just values, it's possible to pass them as arguments to other functions.  Here's a simple but not-so-practical example: we can make an array of functions."
   ]
  },
  {
   "cell_type": "code",
   "execution_count": 24,
   "metadata": {},
   "outputs": [
    {
     "data": {
      "text/plain": [
       "array([<built-in function max>, <function average at 0x00000000052D6158>,\n",
       "       <function are.equal_to at 0x000000000960FD90>], dtype=object)"
      ]
     },
     "execution_count": 24,
     "metadata": {},
     "output_type": "execute_result"
    }
   ],
   "source": [
    "make_array(max, np.average, are.equal_to)"
   ]
  },
  {
   "cell_type": "markdown",
   "metadata": {},
   "source": [
    "**Question 3.1.** <br/>Make an array containing any 3 other functions you've seen.  Call it `some_functions`."
   ]
  },
  {
   "cell_type": "code",
   "execution_count": 25,
   "metadata": {},
   "outputs": [
    {
     "data": {
      "text/plain": [
       "array([<function mean at 0x0000000004EF07B8>, <built-in function min>,\n",
       "       <built-in function max>], dtype=object)"
      ]
     },
     "execution_count": 25,
     "metadata": {},
     "output_type": "execute_result"
    }
   ],
   "source": [
    "some_functions = make_array(np.mean, min, max)\n",
    "some_functions"
   ]
  },
  {
   "cell_type": "markdown",
   "metadata": {},
   "source": [
    "Working with functions as values can lead to some funny-looking code.  For example, see if you can figure out why this works:"
   ]
  },
  {
   "cell_type": "code",
   "execution_count": 26,
   "metadata": {},
   "outputs": [
    {
     "data": {
      "text/plain": [
       "7"
      ]
     },
     "execution_count": 26,
     "metadata": {},
     "output_type": "execute_result"
    }
   ],
   "source": [
    "make_array(max, np.average, are.equal_to).item(0)(4, -2, 7)"
   ]
  },
  {
   "cell_type": "markdown",
   "metadata": {},
   "source": [
    "Here's a simpler example that's actually useful: the table method `apply`.\n",
    "\n",
    "`apply` calls a function many times, once on *each* element in a column of a table.  It produces an array of the results.  Here we use `apply` to convert every CEO's pay to a number, using the function you defined:"
   ]
  },
  {
   "cell_type": "code",
   "execution_count": 27,
   "metadata": {},
   "outputs": [
    {
     "data": {
      "text/plain": [
       "array([5.325e+07, 5.324e+07, 4.491e+07, 3.598e+07, 3.336e+07, 2.484e+07,\n",
       "       2.204e+07, 1.986e+07, 1.962e+07, 1.932e+07, 1.876e+07, 1.861e+07,\n",
       "       1.836e+07, 1.809e+07, 1.710e+07, 1.663e+07, 1.633e+07, 1.614e+07,\n",
       "       1.610e+07, 1.602e+07, 1.510e+07, 1.498e+07, 1.463e+07, 1.451e+07,\n",
       "       1.444e+07, 1.436e+07, 1.431e+07, 1.409e+07, 1.400e+07, 1.367e+07,\n",
       "       1.234e+07, 1.220e+07, 1.218e+07, 1.213e+07, 1.205e+07, 1.184e+07,\n",
       "       1.171e+07, 1.163e+07, 1.116e+07, 1.111e+07, 1.111e+07, 1.073e+07,\n",
       "       1.050e+07, 1.043e+07, 1.037e+07, 1.028e+07, 1.027e+07, 1.018e+07,\n",
       "       1.016e+07, 9.970e+06, 9.960e+06, 9.860e+06, 9.740e+06, 9.420e+06,\n",
       "       9.390e+06, 9.220e+06, 9.060e+06, 9.030e+06, 8.860e+06, 8.760e+06,\n",
       "       8.570e+06, 8.380e+06, 8.360e+06, 8.350e+06, 8.230e+06, 7.860e+06,\n",
       "       7.700e+06, 7.580e+06, 7.510e+06, 7.230e+06, 7.210e+06, 7.120e+06,\n",
       "       6.880e+06, 6.770e+06, 6.640e+06, 6.560e+06, 6.140e+06, 5.920e+06,\n",
       "       5.900e+06, 5.890e+06, 5.730e+06, 5.420e+06, 5.040e+06, 4.920e+06,\n",
       "       4.920e+06, 4.470e+06, 4.250e+06, 4.080e+06, 3.930e+06, 3.720e+06,\n",
       "       2.880e+06, 2.830e+06, 2.820e+06, 2.450e+06, 1.790e+06, 1.680e+06,\n",
       "       1.530e+06, 9.400e+05, 8.100e+05, 7.000e+04, 4.000e+04, 0.000e+00])"
      ]
     },
     "execution_count": 27,
     "metadata": {},
     "output_type": "execute_result"
    }
   ],
   "source": [
    "raw_compensation.apply(convert_pay_string_to_number, \"Total Pay\")"
   ]
  },
  {
   "cell_type": "markdown",
   "metadata": {},
   "source": [
    "Here's an illustration of what that did:\n",
    "\n",
    "<img src=\"apply.png\" alt=\"For each value in the column 'Total Pay', the function `convert_pay_string_to_number` was applied.\"/>\n",
    "\n",
    "Note that we didn't write something like `convert_pay_string_to_number()` or `convert_pay_string_to_number(\"Total Pay\")`.  The job of `apply` is to call the function we give it, so instead of calling `convert_pay_string_to_number` ourselves, we just write its name as an argument to `apply`.\n",
    "\n",
    "**Question 3.2.** <br/>Using `apply`, make a table that's a copy of `raw_compensation` with one more column called \"Total Pay (\\$)\".  It should be the result of applying `convert_pay_string_to_number` to the \"Total Pay\" column, as we did above, and creating a new table which is the old one, but with the \"Total Pay\" column redone.  Call the new table `compensation`."
   ]
  },
  {
   "cell_type": "code",
   "execution_count": 28,
   "metadata": {},
   "outputs": [
    {
     "data": {
      "text/html": [
       "<table border=\"1\" class=\"dataframe\">\n",
       "    <thead>\n",
       "        <tr>\n",
       "            <th>Rank</th> <th>Name</th> <th>Company (Headquarters)</th> <th>Total Pay</th> <th>% Change</th> <th>Cash Pay</th> <th>Equity Pay</th> <th>Other Pay</th> <th>Ratio of CEO pay to average industry worker pay</th> <th>Total Pay ($)</th>\n",
       "        </tr>\n",
       "    </thead>\n",
       "    <tbody>\n",
       "        <tr>\n",
       "            <td>1   </td> <td>Mark V. Hurd*     </td> <td>Oracle (Redwood City)         </td> <td>$53.25   </td> <td>(No previous year)</td> <td>$0.95   </td> <td>$52.27    </td> <td>$0.02    </td> <td>362                                            </td> <td>5.325e+07    </td>\n",
       "        </tr>\n",
       "        <tr>\n",
       "            <td>2   </td> <td>Safra A. Catz*    </td> <td>Oracle (Redwood City)         </td> <td>$53.24   </td> <td>(No previous year)</td> <td>$0.95   </td> <td>$52.27    </td> <td>$0.02    </td> <td>362                                            </td> <td>5.324e+07    </td>\n",
       "        </tr>\n",
       "        <tr>\n",
       "            <td>3   </td> <td>Robert A. Iger    </td> <td>Walt Disney (Burbank)         </td> <td>$44.91   </td> <td>-3%               </td> <td>$24.89  </td> <td>$17.28    </td> <td>$2.74    </td> <td>477                                            </td> <td>4.491e+07    </td>\n",
       "        </tr>\n",
       "        <tr>\n",
       "            <td>4   </td> <td>Marissa A. Mayer  </td> <td>Yahoo! (Sunnyvale)            </td> <td>$35.98   </td> <td>-15%              </td> <td>$1.00   </td> <td>$34.43    </td> <td>$0.55    </td> <td>342                                            </td> <td>3.598e+07    </td>\n",
       "        </tr>\n",
       "        <tr>\n",
       "            <td>5   </td> <td>Marc Benioff      </td> <td>salesforce.com (San Francisco)</td> <td>$33.36   </td> <td>-16%              </td> <td>$4.65   </td> <td>$27.26    </td> <td>$1.45    </td> <td>338                                            </td> <td>3.336e+07    </td>\n",
       "        </tr>\n",
       "        <tr>\n",
       "            <td>6   </td> <td>John H. Hammergren</td> <td>McKesson (San Francisco)      </td> <td>$24.84   </td> <td>-4%               </td> <td>$12.10  </td> <td>$12.37    </td> <td>$0.37    </td> <td>222                                            </td> <td>2.484e+07    </td>\n",
       "        </tr>\n",
       "        <tr>\n",
       "            <td>7   </td> <td>John S. Watson    </td> <td>Chevron (San Ramon)           </td> <td>$22.04   </td> <td>-15%              </td> <td>$4.31   </td> <td>$14.68    </td> <td>$3.05    </td> <td>183                                            </td> <td>2.204e+07    </td>\n",
       "        </tr>\n",
       "        <tr>\n",
       "            <td>8   </td> <td>Jeffrey Weiner    </td> <td>LinkedIn (Mountain View)      </td> <td>$19.86   </td> <td>27%               </td> <td>$2.47   </td> <td>$17.26    </td> <td>$0.13    </td> <td>182                                            </td> <td>1.986e+07    </td>\n",
       "        </tr>\n",
       "        <tr>\n",
       "            <td>9   </td> <td>John T. Chambers**</td> <td>Cisco Systems (San Jose)      </td> <td>$19.62   </td> <td>19%               </td> <td>$5.10   </td> <td>$14.51    </td> <td>$0.01    </td> <td>170                                            </td> <td>1.962e+07    </td>\n",
       "        </tr>\n",
       "        <tr>\n",
       "            <td>10  </td> <td>John G. Stumpf    </td> <td>Wells Fargo  (San Francisco)  </td> <td>$19.32   </td> <td>-10%              </td> <td>$6.80   </td> <td>$12.50    </td> <td>$0.02    </td> <td>256                                            </td> <td>1.932e+07    </td>\n",
       "        </tr>\n",
       "    </tbody>\n",
       "</table>\n",
       "<p>... (92 rows omitted)</p>"
      ],
      "text/plain": [
       "Rank | Name               | Company (Headquarters)         | Total Pay | % Change           | Cash Pay | Equity Pay | Other Pay | Ratio of CEO pay to average industry worker pay | Total Pay ($)\n",
       "1    | Mark V. Hurd*      | Oracle (Redwood City)          | $53.25    | (No previous year) | $0.95    | $52.27     | $0.02     | 362                                             | 5.325e+07\n",
       "2    | Safra A. Catz*     | Oracle (Redwood City)          | $53.24    | (No previous year) | $0.95    | $52.27     | $0.02     | 362                                             | 5.324e+07\n",
       "3    | Robert A. Iger     | Walt Disney (Burbank)          | $44.91    | -3%                | $24.89   | $17.28     | $2.74     | 477                                             | 4.491e+07\n",
       "4    | Marissa A. Mayer   | Yahoo! (Sunnyvale)             | $35.98    | -15%               | $1.00    | $34.43     | $0.55     | 342                                             | 3.598e+07\n",
       "5    | Marc Benioff       | salesforce.com (San Francisco) | $33.36    | -16%               | $4.65    | $27.26     | $1.45     | 338                                             | 3.336e+07\n",
       "6    | John H. Hammergren | McKesson (San Francisco)       | $24.84    | -4%                | $12.10   | $12.37     | $0.37     | 222                                             | 2.484e+07\n",
       "7    | John S. Watson     | Chevron (San Ramon)            | $22.04    | -15%               | $4.31    | $14.68     | $3.05     | 183                                             | 2.204e+07\n",
       "8    | Jeffrey Weiner     | LinkedIn (Mountain View)       | $19.86    | 27%                | $2.47    | $17.26     | $0.13     | 182                                             | 1.986e+07\n",
       "9    | John T. Chambers** | Cisco Systems (San Jose)       | $19.62    | 19%                | $5.10    | $14.51     | $0.01     | 170                                             | 1.962e+07\n",
       "10   | John G. Stumpf     | Wells Fargo  (San Francisco)   | $19.32    | -10%               | $6.80    | $12.50     | $0.02     | 256                                             | 1.932e+07\n",
       "... (92 rows omitted)"
      ]
     },
     "execution_count": 28,
     "metadata": {},
     "output_type": "execute_result"
    }
   ],
   "source": [
    "compensation = raw_compensation.with_column(\"Total Pay ($)\",raw_compensation.apply(convert_pay_string_to_number,\"Total Pay\"))\n",
    "compensation"
   ]
  },
  {
   "cell_type": "markdown",
   "metadata": {},
   "source": [
    "Now that we have the pay in numbers, we can compute things about them.\n",
    "\n",
    "**Question 3.3.**<br/>Compute the average total pay of the CEOs in the dataset."
   ]
  },
  {
   "cell_type": "code",
   "execution_count": 29,
   "metadata": {},
   "outputs": [
    {
     "data": {
      "text/plain": [
       "11445294.11764706"
      ]
     },
     "execution_count": 29,
     "metadata": {},
     "output_type": "execute_result"
    }
   ],
   "source": [
    "average_total_pay = compensation[\"Total Pay ($)\"].mean()\n",
    "average_total_pay"
   ]
  },
  {
   "cell_type": "markdown",
   "metadata": {},
   "source": [
    "**Question 3.4.** <br/>Companies pay executives in a variety of ways: directly in cash; by granting stock or other \"equity\" in the company; or with ancillary benefits (like private jets).  Compute the proportion of each CEO's pay that was cash.  (Your answer should be an array of numbers, one for each CEO in the dataset.)"
   ]
  },
  {
   "cell_type": "code",
   "execution_count": 30,
   "metadata": {
    "scrolled": true
   },
   "outputs": [
    {
     "name": "stderr",
     "output_type": "stream",
     "text": [
      "C:\\Users\\C19Milo.Browder\\AppData\\Local\\Continuum\\anaconda3\\lib\\site-packages\\ipykernel_launcher.py:1: RuntimeWarning: invalid value encountered in true_divide\n",
      "  \"\"\"Entry point for launching an IPython kernel.\n"
     ]
    },
    {
     "data": {
      "text/plain": [
       "array([0.01784038, 0.01784373, 0.55421955, 0.02779322, 0.13938849,\n",
       "       0.48711755, 0.19555354, 0.12437059, 0.25993884, 0.35196687,\n",
       "       0.3075693 , 0.22138635, 0.13126362, 0.1708126 , 0.23099415,\n",
       "       0.06734817, 0.13043478, 0.28004957, 0.33229814, 0.15355805,\n",
       "       0.29337748, 0.21829105, 0.31100478, 0.25086147, 0.2299169 ,\n",
       "       0.16991643, 0.31795947, 0.26188786, 0.28357143, 0.15654718,\n",
       "       0.38168558, 0.28934426, 0.20361248, 0.47650453, 0.45643154,\n",
       "       0.36402027, 0.2177626 , 0.24763543, 0.42562724, 0.2610261 ,\n",
       "       0.18361836, 0.1444548 , 0.33333333, 0.10834132, 0.20925747,\n",
       "       0.97276265, 0.22979552, 0.22789784, 0.37893701, 0.25175527,\n",
       "       0.73895582, 0.37018256, 0.2412731 , 0.2133758 , 0.20553781,\n",
       "       0.23318872, 0.33664459, 0.3875969 , 0.56094808, 0.11757991,\n",
       "       0.35239207, 0.24463007, 0.25      , 0.23712575, 0.43377886,\n",
       "       0.31424936, 0.46363636, 0.32585752, 0.24766977, 0.98755187,\n",
       "       0.27184466, 0.96207865, 0.31831395, 0.81979321, 0.23795181,\n",
       "       0.17530488, 0.21172638, 0.37162162, 0.27288136, 0.26994907,\n",
       "       0.55148342, 0.3597786 , 0.        , 0.47154472, 0.47154472,\n",
       "       0.29753915, 0.16235294, 0.48529412, 0.46819338, 0.32526882,\n",
       "       0.98958333, 0.61130742, 0.67021277, 0.75510204, 0.50837989,\n",
       "       0.98809524, 0.98039216, 0.9893617 , 0.87654321, 0.        ,\n",
       "       1.        ,        nan])"
      ]
     },
     "execution_count": 30,
     "metadata": {},
     "output_type": "execute_result"
    }
   ],
   "source": [
    "cash_proportion = compensation.apply(convert_pay_string_to_number,\"Cash Pay\")/compensation[\"Total Pay ($)\"]\n",
    "cash_proportion"
   ]
  },
  {
   "cell_type": "markdown",
   "metadata": {},
   "source": [
    "Check out the \"% Change\" column in `compensation`.  It shows the percentage increase in the CEO's pay from the previous year.  For CEOs with no previous year on record, it instead says \"(No previous year)\".  The values in this column are *strings*, not numbers, so like the \"Total Pay\" column, it's not usable without a bit of extra work.\n",
    "\n",
    "Given your current pay and the percentage increase from the previous year, you can compute your previous year's pay.  For example, if your pay is \\$100 this year, and that's an increase of 50% from the previous year, then your previous year's pay was $\\frac{\\$100}{1 + \\frac{50}{100}}$, or around \\$66.66.\n",
    "\n",
    "**Question 3.5.** <br/>Create a new table called `with_previous_compensation`.  It should be a copy of `compensation`, but with the \"(No previous year)\" CEOs filtered out, and with an extra column called \"2014 Total Pay ($)\".  That column should have each CEO's pay in 2014.\n",
    "\n",
    "*Hint:* This question takes several steps, but each one is still something you've seen before.  Take it one step at a time, using as many lines as you need.  You can print out your results after each step to make sure you're on the right track.\n",
    "\n",
    "*Hint 2:* You'll need to define a function.  You can do that just above your other code."
   ]
  },
  {
   "cell_type": "code",
   "execution_count": 31,
   "metadata": {
    "scrolled": true
   },
   "outputs": [],
   "source": [
    "compensation=compensation.to_df()"
   ]
  },
  {
   "cell_type": "code",
   "execution_count": 32,
   "metadata": {},
   "outputs": [],
   "source": [
    "def string_to_percentage(str):\n",
    "    return float(str.strip(\"%\"))/100 \n"
   ]
  },
  {
   "cell_type": "code",
   "execution_count": 33,
   "metadata": {
    "scrolled": true
   },
   "outputs": [
    {
     "name": "stderr",
     "output_type": "stream",
     "text": [
      "C:\\Users\\C19Milo.Browder\\AppData\\Local\\Continuum\\anaconda3\\lib\\site-packages\\ipykernel_launcher.py:2: SettingWithCopyWarning: \n",
      "A value is trying to be set on a copy of a slice from a DataFrame.\n",
      "Try using .loc[row_indexer,col_indexer] = value instead\n",
      "\n",
      "See the caveats in the documentation: http://pandas.pydata.org/pandas-docs/stable/indexing.html#indexing-view-versus-copy\n",
      "  \n"
     ]
    },
    {
     "data": {
      "text/html": [
       "<div>\n",
       "<style scoped>\n",
       "    .dataframe tbody tr th:only-of-type {\n",
       "        vertical-align: middle;\n",
       "    }\n",
       "\n",
       "    .dataframe tbody tr th {\n",
       "        vertical-align: top;\n",
       "    }\n",
       "\n",
       "    .dataframe thead th {\n",
       "        text-align: right;\n",
       "    }\n",
       "</style>\n",
       "<table border=\"1\" class=\"dataframe\">\n",
       "  <thead>\n",
       "    <tr style=\"text-align: right;\">\n",
       "      <th></th>\n",
       "      <th>Rank</th>\n",
       "      <th>Name</th>\n",
       "      <th>Company (Headquarters)</th>\n",
       "      <th>Total Pay</th>\n",
       "      <th>% Change</th>\n",
       "      <th>Cash Pay</th>\n",
       "      <th>Equity Pay</th>\n",
       "      <th>Other Pay</th>\n",
       "      <th>Ratio of CEO pay to average industry worker pay</th>\n",
       "      <th>Total Pay ($)</th>\n",
       "      <th>2014 Total Pay ($)</th>\n",
       "    </tr>\n",
       "  </thead>\n",
       "  <tbody>\n",
       "    <tr>\n",
       "      <th>2</th>\n",
       "      <td>3</td>\n",
       "      <td>Robert A. Iger</td>\n",
       "      <td>Walt Disney (Burbank)</td>\n",
       "      <td>$44.91</td>\n",
       "      <td>-3%</td>\n",
       "      <td>$24.89</td>\n",
       "      <td>$17.28</td>\n",
       "      <td>$2.74</td>\n",
       "      <td>477.00000</td>\n",
       "      <td>44910000.0</td>\n",
       "      <td>43562700.0</td>\n",
       "    </tr>\n",
       "    <tr>\n",
       "      <th>3</th>\n",
       "      <td>4</td>\n",
       "      <td>Marissa A. Mayer</td>\n",
       "      <td>Yahoo! (Sunnyvale)</td>\n",
       "      <td>$35.98</td>\n",
       "      <td>-15%</td>\n",
       "      <td>$1.00</td>\n",
       "      <td>$34.43</td>\n",
       "      <td>$0.55</td>\n",
       "      <td>342.00000</td>\n",
       "      <td>35980000.0</td>\n",
       "      <td>30583000.0</td>\n",
       "    </tr>\n",
       "    <tr>\n",
       "      <th>4</th>\n",
       "      <td>5</td>\n",
       "      <td>Marc Benioff</td>\n",
       "      <td>salesforce.com (San Francisco)</td>\n",
       "      <td>$33.36</td>\n",
       "      <td>-16%</td>\n",
       "      <td>$4.65</td>\n",
       "      <td>$27.26</td>\n",
       "      <td>$1.45</td>\n",
       "      <td>338.00000</td>\n",
       "      <td>33360000.0</td>\n",
       "      <td>28022400.0</td>\n",
       "    </tr>\n",
       "    <tr>\n",
       "      <th>5</th>\n",
       "      <td>6</td>\n",
       "      <td>John H. Hammergren</td>\n",
       "      <td>McKesson (San Francisco)</td>\n",
       "      <td>$24.84</td>\n",
       "      <td>-4%</td>\n",
       "      <td>$12.10</td>\n",
       "      <td>$12.37</td>\n",
       "      <td>$0.37</td>\n",
       "      <td>222.00000</td>\n",
       "      <td>24840000.0</td>\n",
       "      <td>23846400.0</td>\n",
       "    </tr>\n",
       "    <tr>\n",
       "      <th>6</th>\n",
       "      <td>7</td>\n",
       "      <td>John S. Watson</td>\n",
       "      <td>Chevron (San Ramon)</td>\n",
       "      <td>$22.04</td>\n",
       "      <td>-15%</td>\n",
       "      <td>$4.31</td>\n",
       "      <td>$14.68</td>\n",
       "      <td>$3.05</td>\n",
       "      <td>183.00000</td>\n",
       "      <td>22040000.0</td>\n",
       "      <td>18734000.0</td>\n",
       "    </tr>\n",
       "    <tr>\n",
       "      <th>7</th>\n",
       "      <td>8</td>\n",
       "      <td>Jeffrey Weiner</td>\n",
       "      <td>LinkedIn (Mountain View)</td>\n",
       "      <td>$19.86</td>\n",
       "      <td>27%</td>\n",
       "      <td>$2.47</td>\n",
       "      <td>$17.26</td>\n",
       "      <td>$0.13</td>\n",
       "      <td>182.00000</td>\n",
       "      <td>19860000.0</td>\n",
       "      <td>25222200.0</td>\n",
       "    </tr>\n",
       "    <tr>\n",
       "      <th>8</th>\n",
       "      <td>9</td>\n",
       "      <td>John T. Chambers**</td>\n",
       "      <td>Cisco Systems (San Jose)</td>\n",
       "      <td>$19.62</td>\n",
       "      <td>19%</td>\n",
       "      <td>$5.10</td>\n",
       "      <td>$14.51</td>\n",
       "      <td>$0.01</td>\n",
       "      <td>170.00000</td>\n",
       "      <td>19620000.0</td>\n",
       "      <td>23347800.0</td>\n",
       "    </tr>\n",
       "    <tr>\n",
       "      <th>9</th>\n",
       "      <td>10</td>\n",
       "      <td>John G. Stumpf</td>\n",
       "      <td>Wells Fargo  (San Francisco)</td>\n",
       "      <td>$19.32</td>\n",
       "      <td>-10%</td>\n",
       "      <td>$6.80</td>\n",
       "      <td>$12.50</td>\n",
       "      <td>$0.02</td>\n",
       "      <td>256.00000</td>\n",
       "      <td>19320000.0</td>\n",
       "      <td>17388000.0</td>\n",
       "    </tr>\n",
       "    <tr>\n",
       "      <th>10</th>\n",
       "      <td>11</td>\n",
       "      <td>John C. Martin**</td>\n",
       "      <td>Gilead Sciences (Foster City)</td>\n",
       "      <td>$18.76</td>\n",
       "      <td>-1%</td>\n",
       "      <td>$5.77</td>\n",
       "      <td>$12.98</td>\n",
       "      <td>$0.01</td>\n",
       "      <td>117.00000</td>\n",
       "      <td>18760000.0</td>\n",
       "      <td>18572400.0</td>\n",
       "    </tr>\n",
       "    <tr>\n",
       "      <th>12</th>\n",
       "      <td>13</td>\n",
       "      <td>Shantanu Narayen</td>\n",
       "      <td>Adobe Systems (San Jose)</td>\n",
       "      <td>$18.36</td>\n",
       "      <td>3%</td>\n",
       "      <td>$2.41</td>\n",
       "      <td>$15.85</td>\n",
       "      <td>$0.09</td>\n",
       "      <td>125.00000</td>\n",
       "      <td>18360000.0</td>\n",
       "      <td>18910800.0</td>\n",
       "    </tr>\n",
       "    <tr>\n",
       "      <th>13</th>\n",
       "      <td>14</td>\n",
       "      <td>Gary E. Dickerson</td>\n",
       "      <td>Applied Materials (Santa Clara)</td>\n",
       "      <td>$18.09</td>\n",
       "      <td>10%</td>\n",
       "      <td>$3.09</td>\n",
       "      <td>$10.82</td>\n",
       "      <td>$4.19</td>\n",
       "      <td>131.00000</td>\n",
       "      <td>18090000.0</td>\n",
       "      <td>19899000.0</td>\n",
       "    </tr>\n",
       "    <tr>\n",
       "      <th>14</th>\n",
       "      <td>15</td>\n",
       "      <td>Margaret C. Whitman**</td>\n",
       "      <td>Hewlett-Packard (Palo Alto)</td>\n",
       "      <td>$17.10</td>\n",
       "      <td>-13%</td>\n",
       "      <td>$3.95</td>\n",
       "      <td>$12.85</td>\n",
       "      <td>$0.30</td>\n",
       "      <td>89.00000</td>\n",
       "      <td>17100000.0</td>\n",
       "      <td>14877000.0</td>\n",
       "    </tr>\n",
       "    <tr>\n",
       "      <th>15</th>\n",
       "      <td>16</td>\n",
       "      <td>Reed Hastings</td>\n",
       "      <td>Netflix (Los Gatos)</td>\n",
       "      <td>$16.63</td>\n",
       "      <td>50%</td>\n",
       "      <td>$1.12</td>\n",
       "      <td>$15.50</td>\n",
       "      <td>$0.02</td>\n",
       "      <td>161.00000</td>\n",
       "      <td>16630000.0</td>\n",
       "      <td>24945000.0</td>\n",
       "    </tr>\n",
       "    <tr>\n",
       "      <th>17</th>\n",
       "      <td>18</td>\n",
       "      <td>Debra L. Reed</td>\n",
       "      <td>Sempra Energy (San Diego)</td>\n",
       "      <td>$16.14</td>\n",
       "      <td>-4%</td>\n",
       "      <td>$4.52</td>\n",
       "      <td>$7.16</td>\n",
       "      <td>$4.46</td>\n",
       "      <td>152.00000</td>\n",
       "      <td>16140000.0</td>\n",
       "      <td>15494400.0</td>\n",
       "    </tr>\n",
       "    <tr>\n",
       "      <th>18</th>\n",
       "      <td>19</td>\n",
       "      <td>Robert A. Bradway</td>\n",
       "      <td>Amgen (Thousand Oaks)</td>\n",
       "      <td>$16.10</td>\n",
       "      <td>15%</td>\n",
       "      <td>$5.35</td>\n",
       "      <td>$10.20</td>\n",
       "      <td>$0.55</td>\n",
       "      <td>152.00000</td>\n",
       "      <td>16100000.0</td>\n",
       "      <td>18515000.0</td>\n",
       "    </tr>\n",
       "    <tr>\n",
       "      <th>19</th>\n",
       "      <td>20</td>\n",
       "      <td>Brad D. Smith</td>\n",
       "      <td>Intuit (Mountain View)</td>\n",
       "      <td>$16.02</td>\n",
       "      <td>-3%</td>\n",
       "      <td>$2.46</td>\n",
       "      <td>$13.55</td>\n",
       "      <td>$0.01</td>\n",
       "      <td>150.00000</td>\n",
       "      <td>16020000.0</td>\n",
       "      <td>15539400.0</td>\n",
       "    </tr>\n",
       "    <tr>\n",
       "      <th>20</th>\n",
       "      <td>21</td>\n",
       "      <td>Gregory E. Johnson</td>\n",
       "      <td>Franklin Resources (San Mateo)</td>\n",
       "      <td>$15.10</td>\n",
       "      <td>-5%</td>\n",
       "      <td>$4.43</td>\n",
       "      <td>$10.60</td>\n",
       "      <td>$0.06</td>\n",
       "      <td>92.00000</td>\n",
       "      <td>15100000.0</td>\n",
       "      <td>14345000.0</td>\n",
       "    </tr>\n",
       "    <tr>\n",
       "      <th>21</th>\n",
       "      <td>22</td>\n",
       "      <td>Hamid R. Moghadam</td>\n",
       "      <td>Prologis (San Francisco)</td>\n",
       "      <td>$14.98</td>\n",
       "      <td>-9%</td>\n",
       "      <td>$3.27</td>\n",
       "      <td>$11.62</td>\n",
       "      <td>$0.10</td>\n",
       "      <td>196.00000</td>\n",
       "      <td>14980000.0</td>\n",
       "      <td>13631800.0</td>\n",
       "    </tr>\n",
       "    <tr>\n",
       "      <th>22</th>\n",
       "      <td>23</td>\n",
       "      <td>Brian M. Krzanich</td>\n",
       "      <td>Intel (Santa Clara)</td>\n",
       "      <td>$14.63</td>\n",
       "      <td>31%</td>\n",
       "      <td>$4.55</td>\n",
       "      <td>$9.80</td>\n",
       "      <td>$0.28</td>\n",
       "      <td>106.00000</td>\n",
       "      <td>14630000.0</td>\n",
       "      <td>19165300.0</td>\n",
       "    </tr>\n",
       "    <tr>\n",
       "      <th>25</th>\n",
       "      <td>26</td>\n",
       "      <td>Patrick P. Gelsinger</td>\n",
       "      <td>VMware (Palo Alto)</td>\n",
       "      <td>$14.36</td>\n",
       "      <td>68%</td>\n",
       "      <td>$2.44</td>\n",
       "      <td>$11.90</td>\n",
       "      <td>$0.01</td>\n",
       "      <td>98.00000</td>\n",
       "      <td>14360000.0</td>\n",
       "      <td>24124800.0</td>\n",
       "    </tr>\n",
       "    <tr>\n",
       "      <th>26</th>\n",
       "      <td>27</td>\n",
       "      <td>Jay M. Gellert**</td>\n",
       "      <td>Health Net (Woodland Hills)</td>\n",
       "      <td>$14.31</td>\n",
       "      <td>15%</td>\n",
       "      <td>$4.55</td>\n",
       "      <td>$7.24</td>\n",
       "      <td>$2.52</td>\n",
       "      <td>173.00000</td>\n",
       "      <td>14310000.0</td>\n",
       "      <td>16456500.0</td>\n",
       "    </tr>\n",
       "    <tr>\n",
       "      <th>28</th>\n",
       "      <td>29</td>\n",
       "      <td>Laura J. Alber</td>\n",
       "      <td>Williams-Sonoma (San Francisco)</td>\n",
       "      <td>$14.00</td>\n",
       "      <td>-5%</td>\n",
       "      <td>$3.97</td>\n",
       "      <td>$10.00</td>\n",
       "      <td>$0.02</td>\n",
       "      <td>223.00000</td>\n",
       "      <td>14000000.0</td>\n",
       "      <td>13300000.0</td>\n",
       "    </tr>\n",
       "    <tr>\n",
       "      <th>29</th>\n",
       "      <td>30</td>\n",
       "      <td>Ronald S. Nersesian</td>\n",
       "      <td>Keysight Technologies (Santa Rosa)</td>\n",
       "      <td>$13.67</td>\n",
       "      <td>118%</td>\n",
       "      <td>$2.14</td>\n",
       "      <td>$11.33</td>\n",
       "      <td>$0.20</td>\n",
       "      <td>132.00000</td>\n",
       "      <td>13670000.0</td>\n",
       "      <td>29800600.0</td>\n",
       "    </tr>\n",
       "    <tr>\n",
       "      <th>30</th>\n",
       "      <td>31</td>\n",
       "      <td>Walter W. Bettinger</td>\n",
       "      <td>Charles Schwab (San Francisco)</td>\n",
       "      <td>$12.34</td>\n",
       "      <td>4%</td>\n",
       "      <td>$4.71</td>\n",
       "      <td>$7.50</td>\n",
       "      <td>$0.12</td>\n",
       "      <td>47.00000</td>\n",
       "      <td>12340000.0</td>\n",
       "      <td>12833600.0</td>\n",
       "    </tr>\n",
       "    <tr>\n",
       "      <th>31</th>\n",
       "      <td>32</td>\n",
       "      <td>Anthony F. Earley</td>\n",
       "      <td>PG&amp;E (San Francisco)</td>\n",
       "      <td>$12.20</td>\n",
       "      <td>5%</td>\n",
       "      <td>$3.53</td>\n",
       "      <td>$7.50</td>\n",
       "      <td>$1.17</td>\n",
       "      <td>147.00000</td>\n",
       "      <td>12200000.0</td>\n",
       "      <td>12810000.0</td>\n",
       "    </tr>\n",
       "    <tr>\n",
       "      <th>32</th>\n",
       "      <td>33</td>\n",
       "      <td>Carl Bass</td>\n",
       "      <td>Autodesk (San Rafael)</td>\n",
       "      <td>$12.18</td>\n",
       "      <td>10%</td>\n",
       "      <td>$2.48</td>\n",
       "      <td>$9.62</td>\n",
       "      <td>$0.08</td>\n",
       "      <td>83.00000</td>\n",
       "      <td>12180000.0</td>\n",
       "      <td>13398000.0</td>\n",
       "    </tr>\n",
       "    <tr>\n",
       "      <th>34</th>\n",
       "      <td>35</td>\n",
       "      <td>Ronald N. Tutor</td>\n",
       "      <td>Tutor Perini (Sylmar)</td>\n",
       "      <td>$12.05</td>\n",
       "      <td>-53%</td>\n",
       "      <td>$5.50</td>\n",
       "      <td>$5.64</td>\n",
       "      <td>$0.91</td>\n",
       "      <td>182.00000</td>\n",
       "      <td>12050000.0</td>\n",
       "      <td>5663500.0</td>\n",
       "    </tr>\n",
       "    <tr>\n",
       "      <th>35</th>\n",
       "      <td>36</td>\n",
       "      <td>Charles W. Scharf</td>\n",
       "      <td>Visa (San Francisco)</td>\n",
       "      <td>$11.84</td>\n",
       "      <td>54%</td>\n",
       "      <td>$4.31</td>\n",
       "      <td>$7.47</td>\n",
       "      <td>$0.06</td>\n",
       "      <td>157.00000</td>\n",
       "      <td>11840000.0</td>\n",
       "      <td>18233600.0</td>\n",
       "    </tr>\n",
       "    <tr>\n",
       "      <th>36</th>\n",
       "      <td>37</td>\n",
       "      <td>Stephen D. Milligan</td>\n",
       "      <td>Western Digital (Irvine)</td>\n",
       "      <td>$11.71</td>\n",
       "      <td>4%</td>\n",
       "      <td>$2.55</td>\n",
       "      <td>$9.15</td>\n",
       "      <td>$0.01</td>\n",
       "      <td>85.00000</td>\n",
       "      <td>11710000.0</td>\n",
       "      <td>12178400.0</td>\n",
       "    </tr>\n",
       "    <tr>\n",
       "      <th>38</th>\n",
       "      <td>39</td>\n",
       "      <td>Martin B. Anstice</td>\n",
       "      <td>Lam Research (Fremont)</td>\n",
       "      <td>$11.16</td>\n",
       "      <td>-26%</td>\n",
       "      <td>$4.75</td>\n",
       "      <td>$6.41</td>\n",
       "      <td>$0.01</td>\n",
       "      <td>81.00000</td>\n",
       "      <td>11160000.0</td>\n",
       "      <td>8258400.0</td>\n",
       "    </tr>\n",
       "    <tr>\n",
       "      <th>...</th>\n",
       "      <td>...</td>\n",
       "      <td>...</td>\n",
       "      <td>...</td>\n",
       "      <td>...</td>\n",
       "      <td>...</td>\n",
       "      <td>...</td>\n",
       "      <td>...</td>\n",
       "      <td>...</td>\n",
       "      <td>...</td>\n",
       "      <td>...</td>\n",
       "      <td>...</td>\n",
       "    </tr>\n",
       "    <tr>\n",
       "      <th>66</th>\n",
       "      <td>67</td>\n",
       "      <td>Robert E. Sulentic</td>\n",
       "      <td>CBRE Group (Los Angeles)</td>\n",
       "      <td>$7.70</td>\n",
       "      <td>21%</td>\n",
       "      <td>$3.57</td>\n",
       "      <td>$4.12</td>\n",
       "      <td>$0.00</td>\n",
       "      <td>135.00000</td>\n",
       "      <td>7700000.0</td>\n",
       "      <td>9317000.0</td>\n",
       "    </tr>\n",
       "    <tr>\n",
       "      <th>67</th>\n",
       "      <td>68</td>\n",
       "      <td>Peter T. Dameris</td>\n",
       "      <td>On Assignment  (Calabasas)</td>\n",
       "      <td>$7.58</td>\n",
       "      <td>36%</td>\n",
       "      <td>$2.47</td>\n",
       "      <td>$5.10</td>\n",
       "      <td>$0.01</td>\n",
       "      <td>250.00000</td>\n",
       "      <td>7580000.0</td>\n",
       "      <td>10308800.0</td>\n",
       "    </tr>\n",
       "    <tr>\n",
       "      <th>68</th>\n",
       "      <td>69</td>\n",
       "      <td>Dow R. Wilson</td>\n",
       "      <td>Varian Medical Systems (Palo Alto)</td>\n",
       "      <td>$7.51</td>\n",
       "      <td>16%</td>\n",
       "      <td>$1.86</td>\n",
       "      <td>$5.50</td>\n",
       "      <td>$0.15</td>\n",
       "      <td>72.00000</td>\n",
       "      <td>7510000.0</td>\n",
       "      <td>8711600.0</td>\n",
       "    </tr>\n",
       "    <tr>\n",
       "      <th>69</th>\n",
       "      <td>70</td>\n",
       "      <td>Robert A. Kotick</td>\n",
       "      <td>Activision Blizzard (Santa Monica)</td>\n",
       "      <td>$7.23</td>\n",
       "      <td>5%</td>\n",
       "      <td>$7.14</td>\n",
       "      <td>$0.00</td>\n",
       "      <td>$0.09</td>\n",
       "      <td>49.00000</td>\n",
       "      <td>7230000.0</td>\n",
       "      <td>7591500.0</td>\n",
       "    </tr>\n",
       "    <tr>\n",
       "      <th>71</th>\n",
       "      <td>72</td>\n",
       "      <td>Robert Y. Greenberg</td>\n",
       "      <td>Skechers U.S.A. (Manhattan Beach)</td>\n",
       "      <td>$7.12</td>\n",
       "      <td>-25%</td>\n",
       "      <td>$6.85</td>\n",
       "      <td>$0.00</td>\n",
       "      <td>$0.27</td>\n",
       "      <td>182.00000</td>\n",
       "      <td>7120000.0</td>\n",
       "      <td>5340000.0</td>\n",
       "    </tr>\n",
       "    <tr>\n",
       "      <th>72</th>\n",
       "      <td>73</td>\n",
       "      <td>Lauralee E. Martin</td>\n",
       "      <td>HCP (Irvine)</td>\n",
       "      <td>$6.88</td>\n",
       "      <td>-45%</td>\n",
       "      <td>$2.19</td>\n",
       "      <td>$4.68</td>\n",
       "      <td>$0.01</td>\n",
       "      <td>152.00000</td>\n",
       "      <td>6880000.0</td>\n",
       "      <td>3784000.0</td>\n",
       "    </tr>\n",
       "    <tr>\n",
       "      <th>73</th>\n",
       "      <td>74</td>\n",
       "      <td>Jon Feltheimer</td>\n",
       "      <td>Lions Gate Entertainment (Santa Monica)</td>\n",
       "      <td>$6.77</td>\n",
       "      <td>-90%</td>\n",
       "      <td>$5.55</td>\n",
       "      <td>$1.00</td>\n",
       "      <td>$0.22</td>\n",
       "      <td>46.00000</td>\n",
       "      <td>6770000.0</td>\n",
       "      <td>677000.0</td>\n",
       "    </tr>\n",
       "    <tr>\n",
       "      <th>77</th>\n",
       "      <td>78</td>\n",
       "      <td>David Overton</td>\n",
       "      <td>Cheesecake Factory  (Calabasas Hills)</td>\n",
       "      <td>$5.92</td>\n",
       "      <td>10%</td>\n",
       "      <td>$2.20</td>\n",
       "      <td>$3.59</td>\n",
       "      <td>$0.13</td>\n",
       "      <td>303.00000</td>\n",
       "      <td>5920000.0</td>\n",
       "      <td>6512000.0</td>\n",
       "    </tr>\n",
       "    <tr>\n",
       "      <th>78</th>\n",
       "      <td>79</td>\n",
       "      <td>Moshe N. Gavrielov</td>\n",
       "      <td>Xilinx (San Jose)</td>\n",
       "      <td>$5.90</td>\n",
       "      <td>-9%</td>\n",
       "      <td>$1.61</td>\n",
       "      <td>$4.29</td>\n",
       "      <td>$0.00</td>\n",
       "      <td>43.00000</td>\n",
       "      <td>5900000.0</td>\n",
       "      <td>5369000.0</td>\n",
       "    </tr>\n",
       "    <tr>\n",
       "      <th>79</th>\n",
       "      <td>80</td>\n",
       "      <td>Tunc Doluca</td>\n",
       "      <td>Maxim Integrated Products (San Jose)</td>\n",
       "      <td>$5.89</td>\n",
       "      <td>57%</td>\n",
       "      <td>$1.59</td>\n",
       "      <td>$4.29</td>\n",
       "      <td>$0.02</td>\n",
       "      <td>43.00000</td>\n",
       "      <td>5890000.0</td>\n",
       "      <td>9247300.0</td>\n",
       "    </tr>\n",
       "    <tr>\n",
       "      <th>80</th>\n",
       "      <td>81</td>\n",
       "      <td>Dennis J. Gilmore</td>\n",
       "      <td>First American Financial (Santa Ana)</td>\n",
       "      <td>$5.73</td>\n",
       "      <td>2%</td>\n",
       "      <td>$3.16</td>\n",
       "      <td>$2.56</td>\n",
       "      <td>$0.01</td>\n",
       "      <td>68.00000</td>\n",
       "      <td>5730000.0</td>\n",
       "      <td>5844600.0</td>\n",
       "    </tr>\n",
       "    <tr>\n",
       "      <th>81</th>\n",
       "      <td>82</td>\n",
       "      <td>Dan L. Batrack</td>\n",
       "      <td>Tetra Tech (Pasadena)</td>\n",
       "      <td>$5.42</td>\n",
       "      <td>20%</td>\n",
       "      <td>$1.95</td>\n",
       "      <td>$3.43</td>\n",
       "      <td>$0.04</td>\n",
       "      <td>58.00000</td>\n",
       "      <td>5420000.0</td>\n",
       "      <td>6504000.0</td>\n",
       "    </tr>\n",
       "    <tr>\n",
       "      <th>82</th>\n",
       "      <td>83</td>\n",
       "      <td>Mark E. Zuckerberg</td>\n",
       "      <td>Facebook (Menlo Park)</td>\n",
       "      <td>$5.04</td>\n",
       "      <td>-19%</td>\n",
       "      <td>$0.00</td>\n",
       "      <td>$0.00</td>\n",
       "      <td>$5.04</td>\n",
       "      <td>46.00000</td>\n",
       "      <td>5040000.0</td>\n",
       "      <td>4082400.0</td>\n",
       "    </tr>\n",
       "    <tr>\n",
       "      <th>83</th>\n",
       "      <td>84</td>\n",
       "      <td>Aart J. de Geus*</td>\n",
       "      <td>Synopsys (Mountain View)</td>\n",
       "      <td>$4.92</td>\n",
       "      <td>10%</td>\n",
       "      <td>$2.32</td>\n",
       "      <td>$2.57</td>\n",
       "      <td>$0.03</td>\n",
       "      <td>54.00000</td>\n",
       "      <td>4920000.0</td>\n",
       "      <td>5412000.0</td>\n",
       "    </tr>\n",
       "    <tr>\n",
       "      <th>84</th>\n",
       "      <td>85</td>\n",
       "      <td>Chi-Foon Chan*</td>\n",
       "      <td>Synopsys (Mountain View)</td>\n",
       "      <td>$4.92</td>\n",
       "      <td>9%</td>\n",
       "      <td>$2.32</td>\n",
       "      <td>$2.57</td>\n",
       "      <td>$0.03</td>\n",
       "      <td>54.00000</td>\n",
       "      <td>4920000.0</td>\n",
       "      <td>5362800.0</td>\n",
       "    </tr>\n",
       "    <tr>\n",
       "      <th>85</th>\n",
       "      <td>86</td>\n",
       "      <td>Douglas F. Bauer</td>\n",
       "      <td>TRI Pointe Group (Irvine)</td>\n",
       "      <td>$4.47</td>\n",
       "      <td>114%</td>\n",
       "      <td>$1.33</td>\n",
       "      <td>$3.12</td>\n",
       "      <td>$0.02</td>\n",
       "      <td>83.00000</td>\n",
       "      <td>4470000.0</td>\n",
       "      <td>9565800.0</td>\n",
       "    </tr>\n",
       "    <tr>\n",
       "      <th>86</th>\n",
       "      <td>87</td>\n",
       "      <td>Burton M. Goldfield</td>\n",
       "      <td>TriNet Group (San Leandro)</td>\n",
       "      <td>$4.25</td>\n",
       "      <td>76%</td>\n",
       "      <td>$0.69</td>\n",
       "      <td>$3.50</td>\n",
       "      <td>$0.06</td>\n",
       "      <td>49.00000</td>\n",
       "      <td>4250000.0</td>\n",
       "      <td>7480000.0</td>\n",
       "    </tr>\n",
       "    <tr>\n",
       "      <th>87</th>\n",
       "      <td>88</td>\n",
       "      <td>Robert Mehrabian</td>\n",
       "      <td>Teledyne Technologies  (Thousand Oaks)</td>\n",
       "      <td>$4.08</td>\n",
       "      <td>-52%</td>\n",
       "      <td>$1.98</td>\n",
       "      <td>$1.63</td>\n",
       "      <td>$0.46</td>\n",
       "      <td>37.00000</td>\n",
       "      <td>4080000.0</td>\n",
       "      <td>1958400.0</td>\n",
       "    </tr>\n",
       "    <tr>\n",
       "      <th>88</th>\n",
       "      <td>89</td>\n",
       "      <td>Kevin M. Murai</td>\n",
       "      <td>SYNNEX (Fremont)</td>\n",
       "      <td>$3.93</td>\n",
       "      <td>-48%</td>\n",
       "      <td>$1.84</td>\n",
       "      <td>$2.07</td>\n",
       "      <td>$0.01</td>\n",
       "      <td>31.00000</td>\n",
       "      <td>3930000.0</td>\n",
       "      <td>2043600.0</td>\n",
       "    </tr>\n",
       "    <tr>\n",
       "      <th>89</th>\n",
       "      <td>90</td>\n",
       "      <td>Gary S. Guthart</td>\n",
       "      <td>Intuitive Surgical (Sunnyvale)</td>\n",
       "      <td>$3.72</td>\n",
       "      <td>42%</td>\n",
       "      <td>$1.21</td>\n",
       "      <td>$2.52</td>\n",
       "      <td>$0.00</td>\n",
       "      <td>49.00000</td>\n",
       "      <td>3720000.0</td>\n",
       "      <td>5282400.0</td>\n",
       "    </tr>\n",
       "    <tr>\n",
       "      <th>91</th>\n",
       "      <td>92</td>\n",
       "      <td>James H. Roberts</td>\n",
       "      <td>Granite Construction (Watsonville)</td>\n",
       "      <td>$2.83</td>\n",
       "      <td>22%</td>\n",
       "      <td>$1.73</td>\n",
       "      <td>$0.98</td>\n",
       "      <td>$0.12</td>\n",
       "      <td>40.00000</td>\n",
       "      <td>2830000.0</td>\n",
       "      <td>3452600.0</td>\n",
       "    </tr>\n",
       "    <tr>\n",
       "      <th>92</th>\n",
       "      <td>93</td>\n",
       "      <td>Thomas T. Edman</td>\n",
       "      <td>TTM Technologies (Costa Mesa)</td>\n",
       "      <td>$2.82</td>\n",
       "      <td>87%</td>\n",
       "      <td>$1.89</td>\n",
       "      <td>$0.92</td>\n",
       "      <td>$0.01</td>\n",
       "      <td>43.00000</td>\n",
       "      <td>2820000.0</td>\n",
       "      <td>5273400.0</td>\n",
       "    </tr>\n",
       "    <tr>\n",
       "      <th>93</th>\n",
       "      <td>94</td>\n",
       "      <td>Gabriel Tirador</td>\n",
       "      <td>Mercury General (Los Angeles)</td>\n",
       "      <td>$2.45</td>\n",
       "      <td>-4%</td>\n",
       "      <td>$1.85</td>\n",
       "      <td>$0.54</td>\n",
       "      <td>$0.06</td>\n",
       "      <td>28.00000</td>\n",
       "      <td>2450000.0</td>\n",
       "      <td>2352000.0</td>\n",
       "    </tr>\n",
       "    <tr>\n",
       "      <th>94</th>\n",
       "      <td>95</td>\n",
       "      <td>Thomas B. Perkins</td>\n",
       "      <td>Core-Mark Holding Company (South San Francisco)</td>\n",
       "      <td>$1.79</td>\n",
       "      <td>9%</td>\n",
       "      <td>$0.91</td>\n",
       "      <td>$0.87</td>\n",
       "      <td>$0.01</td>\n",
       "      <td>31.00000</td>\n",
       "      <td>1790000.0</td>\n",
       "      <td>1951100.0</td>\n",
       "    </tr>\n",
       "    <tr>\n",
       "      <th>95</th>\n",
       "      <td>96</td>\n",
       "      <td>Gary G. Friedman</td>\n",
       "      <td>Restoration Hardware Holdings (Corte Madera)</td>\n",
       "      <td>$1.68</td>\n",
       "      <td>-35%</td>\n",
       "      <td>$1.66</td>\n",
       "      <td>$0.00</td>\n",
       "      <td>$0.02</td>\n",
       "      <td>28.00000</td>\n",
       "      <td>1680000.0</td>\n",
       "      <td>1092000.0</td>\n",
       "    </tr>\n",
       "    <tr>\n",
       "      <th>96</th>\n",
       "      <td>97</td>\n",
       "      <td>David G. Hirz</td>\n",
       "      <td>Smartæ&amp; Final Stores (Commerce)</td>\n",
       "      <td>$1.53</td>\n",
       "      <td>-66%</td>\n",
       "      <td>$1.50</td>\n",
       "      <td>$0.00</td>\n",
       "      <td>$0.04</td>\n",
       "      <td>26.00000</td>\n",
       "      <td>1530000.0</td>\n",
       "      <td>520200.0</td>\n",
       "    </tr>\n",
       "    <tr>\n",
       "      <th>97</th>\n",
       "      <td>98</td>\n",
       "      <td>Gregory N. Roberts</td>\n",
       "      <td>A-Mark Precious Metals (Santa Monica)</td>\n",
       "      <td>$0.94</td>\n",
       "      <td>-11%</td>\n",
       "      <td>$0.93</td>\n",
       "      <td>$0.00</td>\n",
       "      <td>$0.02</td>\n",
       "      <td>17.00000</td>\n",
       "      <td>940000.0</td>\n",
       "      <td>836600.0</td>\n",
       "    </tr>\n",
       "    <tr>\n",
       "      <th>98</th>\n",
       "      <td>99</td>\n",
       "      <td>Jose L. Laparte</td>\n",
       "      <td>PriceSmart (San Diego)</td>\n",
       "      <td>$0.81</td>\n",
       "      <td>-7%</td>\n",
       "      <td>$0.71</td>\n",
       "      <td>$0.00</td>\n",
       "      <td>$0.10</td>\n",
       "      <td>32.00000</td>\n",
       "      <td>810000.0</td>\n",
       "      <td>753300.0</td>\n",
       "    </tr>\n",
       "    <tr>\n",
       "      <th>100</th>\n",
       "      <td>101</td>\n",
       "      <td>Elon R. Musk</td>\n",
       "      <td>Tesla Motors (Palo Alto)</td>\n",
       "      <td>$0.04</td>\n",
       "      <td>6%</td>\n",
       "      <td>$0.04</td>\n",
       "      <td>$0.00</td>\n",
       "      <td>$0.00</td>\n",
       "      <td>0.46000</td>\n",
       "      <td>40000.0</td>\n",
       "      <td>42400.0</td>\n",
       "    </tr>\n",
       "    <tr>\n",
       "      <th>101</th>\n",
       "      <td>102</td>\n",
       "      <td>Lawrence Page***</td>\n",
       "      <td>Alphabet (Mountain View)</td>\n",
       "      <td>$0.00</td>\n",
       "      <td>0%</td>\n",
       "      <td>$0.00</td>\n",
       "      <td>$0.00</td>\n",
       "      <td>$0.00</td>\n",
       "      <td>0.00001</td>\n",
       "      <td>0.0</td>\n",
       "      <td>0.0</td>\n",
       "    </tr>\n",
       "  </tbody>\n",
       "</table>\n",
       "<p>81 rows × 11 columns</p>\n",
       "</div>"
      ],
      "text/plain": [
       "     Rank                   Name  \\\n",
       "2       3         Robert A. Iger   \n",
       "3       4       Marissa A. Mayer   \n",
       "4       5           Marc Benioff   \n",
       "5       6     John H. Hammergren   \n",
       "6       7         John S. Watson   \n",
       "7       8         Jeffrey Weiner   \n",
       "8       9     John T. Chambers**   \n",
       "9      10         John G. Stumpf   \n",
       "10     11       John C. Martin**   \n",
       "12     13       Shantanu Narayen   \n",
       "13     14      Gary E. Dickerson   \n",
       "14     15  Margaret C. Whitman**   \n",
       "15     16          Reed Hastings   \n",
       "17     18          Debra L. Reed   \n",
       "18     19      Robert A. Bradway   \n",
       "19     20          Brad D. Smith   \n",
       "20     21     Gregory E. Johnson   \n",
       "21     22      Hamid R. Moghadam   \n",
       "22     23      Brian M. Krzanich   \n",
       "25     26   Patrick P. Gelsinger   \n",
       "26     27       Jay M. Gellert**   \n",
       "28     29         Laura J. Alber   \n",
       "29     30    Ronald S. Nersesian   \n",
       "30     31    Walter W. Bettinger   \n",
       "31     32      Anthony F. Earley   \n",
       "32     33              Carl Bass   \n",
       "34     35        Ronald N. Tutor   \n",
       "35     36      Charles W. Scharf   \n",
       "36     37    Stephen D. Milligan   \n",
       "38     39      Martin B. Anstice   \n",
       "..    ...                    ...   \n",
       "66     67     Robert E. Sulentic   \n",
       "67     68       Peter T. Dameris   \n",
       "68     69          Dow R. Wilson   \n",
       "69     70       Robert A. Kotick   \n",
       "71     72    Robert Y. Greenberg   \n",
       "72     73     Lauralee E. Martin   \n",
       "73     74         Jon Feltheimer   \n",
       "77     78          David Overton   \n",
       "78     79     Moshe N. Gavrielov   \n",
       "79     80            Tunc Doluca   \n",
       "80     81      Dennis J. Gilmore   \n",
       "81     82         Dan L. Batrack   \n",
       "82     83     Mark E. Zuckerberg   \n",
       "83     84       Aart J. de Geus*   \n",
       "84     85         Chi-Foon Chan*   \n",
       "85     86       Douglas F. Bauer   \n",
       "86     87    Burton M. Goldfield   \n",
       "87     88       Robert Mehrabian   \n",
       "88     89         Kevin M. Murai   \n",
       "89     90        Gary S. Guthart   \n",
       "91     92       James H. Roberts   \n",
       "92     93        Thomas T. Edman   \n",
       "93     94        Gabriel Tirador   \n",
       "94     95      Thomas B. Perkins   \n",
       "95     96       Gary G. Friedman   \n",
       "96     97          David G. Hirz   \n",
       "97     98     Gregory N. Roberts   \n",
       "98     99        Jose L. Laparte   \n",
       "100   101           Elon R. Musk   \n",
       "101   102       Lawrence Page***   \n",
       "\n",
       "                              Company (Headquarters) Total Pay % Change  \\\n",
       "2                              Walt Disney (Burbank)   $44.91       -3%   \n",
       "3                                 Yahoo! (Sunnyvale)   $35.98      -15%   \n",
       "4                     salesforce.com (San Francisco)   $33.36      -16%   \n",
       "5                           McKesson (San Francisco)   $24.84       -4%   \n",
       "6                                Chevron (San Ramon)   $22.04      -15%   \n",
       "7                           LinkedIn (Mountain View)   $19.86       27%   \n",
       "8                           Cisco Systems (San Jose)   $19.62       19%   \n",
       "9                       Wells Fargo  (San Francisco)   $19.32      -10%   \n",
       "10                     Gilead Sciences (Foster City)   $18.76       -1%   \n",
       "12                          Adobe Systems (San Jose)   $18.36        3%   \n",
       "13                   Applied Materials (Santa Clara)   $18.09       10%   \n",
       "14                       Hewlett-Packard (Palo Alto)   $17.10      -13%   \n",
       "15                               Netflix (Los Gatos)   $16.63       50%   \n",
       "17                         Sempra Energy (San Diego)   $16.14       -4%   \n",
       "18                             Amgen (Thousand Oaks)   $16.10       15%   \n",
       "19                            Intuit (Mountain View)   $16.02       -3%   \n",
       "20                    Franklin Resources (San Mateo)   $15.10       -5%   \n",
       "21                          Prologis (San Francisco)   $14.98       -9%   \n",
       "22                               Intel (Santa Clara)   $14.63       31%   \n",
       "25                                VMware (Palo Alto)   $14.36       68%   \n",
       "26                       Health Net (Woodland Hills)   $14.31       15%   \n",
       "28                   Williams-Sonoma (San Francisco)   $14.00       -5%   \n",
       "29                Keysight Technologies (Santa Rosa)   $13.67      118%   \n",
       "30                    Charles Schwab (San Francisco)   $12.34        4%   \n",
       "31                              PG&E (San Francisco)   $12.20        5%   \n",
       "32                             Autodesk (San Rafael)   $12.18       10%   \n",
       "34                             Tutor Perini (Sylmar)   $12.05      -53%   \n",
       "35                              Visa (San Francisco)   $11.84       54%   \n",
       "36                          Western Digital (Irvine)   $11.71        4%   \n",
       "38                            Lam Research (Fremont)   $11.16      -26%   \n",
       "..                                               ...       ...      ...   \n",
       "66                          CBRE Group (Los Angeles)    $7.70       21%   \n",
       "67                        On Assignment  (Calabasas)    $7.58       36%   \n",
       "68                Varian Medical Systems (Palo Alto)    $7.51       16%   \n",
       "69                Activision Blizzard (Santa Monica)    $7.23        5%   \n",
       "71                 Skechers U.S.A. (Manhattan Beach)    $7.12      -25%   \n",
       "72                                      HCP (Irvine)    $6.88      -45%   \n",
       "73           Lions Gate Entertainment (Santa Monica)    $6.77      -90%   \n",
       "77             Cheesecake Factory  (Calabasas Hills)    $5.92       10%   \n",
       "78                                 Xilinx (San Jose)    $5.90       -9%   \n",
       "79              Maxim Integrated Products (San Jose)    $5.89       57%   \n",
       "80              First American Financial (Santa Ana)    $5.73        2%   \n",
       "81                             Tetra Tech (Pasadena)    $5.42       20%   \n",
       "82                             Facebook (Menlo Park)    $5.04      -19%   \n",
       "83                          Synopsys (Mountain View)    $4.92       10%   \n",
       "84                          Synopsys (Mountain View)    $4.92        9%   \n",
       "85                         TRI Pointe Group (Irvine)    $4.47      114%   \n",
       "86                        TriNet Group (San Leandro)    $4.25       76%   \n",
       "87            Teledyne Technologies  (Thousand Oaks)    $4.08      -52%   \n",
       "88                                  SYNNEX (Fremont)    $3.93      -48%   \n",
       "89                    Intuitive Surgical (Sunnyvale)    $3.72       42%   \n",
       "91                Granite Construction (Watsonville)    $2.83       22%   \n",
       "92                     TTM Technologies (Costa Mesa)    $2.82       87%   \n",
       "93                     Mercury General (Los Angeles)    $2.45       -4%   \n",
       "94   Core-Mark Holding Company (South San Francisco)    $1.79        9%   \n",
       "95      Restoration Hardware Holdings (Corte Madera)    $1.68      -35%   \n",
       "96                   Smartæ& Final Stores (Commerce)    $1.53      -66%   \n",
       "97             A-Mark Precious Metals (Santa Monica)    $0.94      -11%   \n",
       "98                            PriceSmart (San Diego)    $0.81       -7%   \n",
       "100                         Tesla Motors (Palo Alto)    $0.04        6%   \n",
       "101                         Alphabet (Mountain View)    $0.00        0%   \n",
       "\n",
       "    Cash Pay Equity Pay Other Pay  \\\n",
       "2    $24.89     $17.28     $2.74    \n",
       "3     $1.00     $34.43     $0.55    \n",
       "4     $4.65     $27.26     $1.45    \n",
       "5    $12.10     $12.37     $0.37    \n",
       "6     $4.31     $14.68     $3.05    \n",
       "7     $2.47     $17.26     $0.13    \n",
       "8     $5.10     $14.51     $0.01    \n",
       "9     $6.80     $12.50     $0.02    \n",
       "10    $5.77     $12.98     $0.01    \n",
       "12    $2.41     $15.85     $0.09    \n",
       "13    $3.09     $10.82     $4.19    \n",
       "14    $3.95     $12.85     $0.30    \n",
       "15    $1.12     $15.50     $0.02    \n",
       "17    $4.52      $7.16     $4.46    \n",
       "18    $5.35     $10.20     $0.55    \n",
       "19    $2.46     $13.55     $0.01    \n",
       "20    $4.43     $10.60     $0.06    \n",
       "21    $3.27     $11.62     $0.10    \n",
       "22    $4.55      $9.80     $0.28    \n",
       "25    $2.44     $11.90     $0.01    \n",
       "26    $4.55      $7.24     $2.52    \n",
       "28    $3.97     $10.00     $0.02    \n",
       "29    $2.14     $11.33     $0.20    \n",
       "30    $4.71      $7.50     $0.12    \n",
       "31    $3.53      $7.50     $1.17    \n",
       "32    $2.48      $9.62     $0.08    \n",
       "34    $5.50      $5.64     $0.91    \n",
       "35    $4.31      $7.47     $0.06    \n",
       "36    $2.55      $9.15     $0.01    \n",
       "38    $4.75      $6.41     $0.01    \n",
       "..       ...        ...       ...   \n",
       "66    $3.57      $4.12     $0.00    \n",
       "67    $2.47      $5.10     $0.01    \n",
       "68    $1.86      $5.50     $0.15    \n",
       "69    $7.14      $0.00     $0.09    \n",
       "71    $6.85      $0.00     $0.27    \n",
       "72    $2.19      $4.68     $0.01    \n",
       "73    $5.55      $1.00     $0.22    \n",
       "77    $2.20      $3.59     $0.13    \n",
       "78    $1.61      $4.29     $0.00    \n",
       "79    $1.59      $4.29     $0.02    \n",
       "80    $3.16      $2.56     $0.01    \n",
       "81    $1.95      $3.43     $0.04    \n",
       "82    $0.00      $0.00     $5.04    \n",
       "83    $2.32      $2.57     $0.03    \n",
       "84    $2.32      $2.57     $0.03    \n",
       "85    $1.33      $3.12     $0.02    \n",
       "86    $0.69      $3.50     $0.06    \n",
       "87    $1.98      $1.63     $0.46    \n",
       "88    $1.84      $2.07     $0.01    \n",
       "89    $1.21      $2.52     $0.00    \n",
       "91    $1.73      $0.98     $0.12    \n",
       "92    $1.89      $0.92     $0.01    \n",
       "93    $1.85      $0.54     $0.06    \n",
       "94    $0.91      $0.87     $0.01    \n",
       "95    $1.66      $0.00     $0.02    \n",
       "96    $1.50      $0.00     $0.04    \n",
       "97    $0.93      $0.00     $0.02    \n",
       "98    $0.71      $0.00     $0.10    \n",
       "100   $0.04      $0.00     $0.00    \n",
       "101   $0.00      $0.00     $0.00    \n",
       "\n",
       "     Ratio of CEO pay to average industry worker pay  Total Pay ($)  \\\n",
       "2                                          477.00000     44910000.0   \n",
       "3                                          342.00000     35980000.0   \n",
       "4                                          338.00000     33360000.0   \n",
       "5                                          222.00000     24840000.0   \n",
       "6                                          183.00000     22040000.0   \n",
       "7                                          182.00000     19860000.0   \n",
       "8                                          170.00000     19620000.0   \n",
       "9                                          256.00000     19320000.0   \n",
       "10                                         117.00000     18760000.0   \n",
       "12                                         125.00000     18360000.0   \n",
       "13                                         131.00000     18090000.0   \n",
       "14                                          89.00000     17100000.0   \n",
       "15                                         161.00000     16630000.0   \n",
       "17                                         152.00000     16140000.0   \n",
       "18                                         152.00000     16100000.0   \n",
       "19                                         150.00000     16020000.0   \n",
       "20                                          92.00000     15100000.0   \n",
       "21                                         196.00000     14980000.0   \n",
       "22                                         106.00000     14630000.0   \n",
       "25                                          98.00000     14360000.0   \n",
       "26                                         173.00000     14310000.0   \n",
       "28                                         223.00000     14000000.0   \n",
       "29                                         132.00000     13670000.0   \n",
       "30                                          47.00000     12340000.0   \n",
       "31                                         147.00000     12200000.0   \n",
       "32                                          83.00000     12180000.0   \n",
       "34                                         182.00000     12050000.0   \n",
       "35                                         157.00000     11840000.0   \n",
       "36                                          85.00000     11710000.0   \n",
       "38                                          81.00000     11160000.0   \n",
       "..                                               ...            ...   \n",
       "66                                         135.00000      7700000.0   \n",
       "67                                         250.00000      7580000.0   \n",
       "68                                          72.00000      7510000.0   \n",
       "69                                          49.00000      7230000.0   \n",
       "71                                         182.00000      7120000.0   \n",
       "72                                         152.00000      6880000.0   \n",
       "73                                          46.00000      6770000.0   \n",
       "77                                         303.00000      5920000.0   \n",
       "78                                          43.00000      5900000.0   \n",
       "79                                          43.00000      5890000.0   \n",
       "80                                          68.00000      5730000.0   \n",
       "81                                          58.00000      5420000.0   \n",
       "82                                          46.00000      5040000.0   \n",
       "83                                          54.00000      4920000.0   \n",
       "84                                          54.00000      4920000.0   \n",
       "85                                          83.00000      4470000.0   \n",
       "86                                          49.00000      4250000.0   \n",
       "87                                          37.00000      4080000.0   \n",
       "88                                          31.00000      3930000.0   \n",
       "89                                          49.00000      3720000.0   \n",
       "91                                          40.00000      2830000.0   \n",
       "92                                          43.00000      2820000.0   \n",
       "93                                          28.00000      2450000.0   \n",
       "94                                          31.00000      1790000.0   \n",
       "95                                          28.00000      1680000.0   \n",
       "96                                          26.00000      1530000.0   \n",
       "97                                          17.00000       940000.0   \n",
       "98                                          32.00000       810000.0   \n",
       "100                                          0.46000        40000.0   \n",
       "101                                          0.00001            0.0   \n",
       "\n",
       "     2014 Total Pay ($)  \n",
       "2            43562700.0  \n",
       "3            30583000.0  \n",
       "4            28022400.0  \n",
       "5            23846400.0  \n",
       "6            18734000.0  \n",
       "7            25222200.0  \n",
       "8            23347800.0  \n",
       "9            17388000.0  \n",
       "10           18572400.0  \n",
       "12           18910800.0  \n",
       "13           19899000.0  \n",
       "14           14877000.0  \n",
       "15           24945000.0  \n",
       "17           15494400.0  \n",
       "18           18515000.0  \n",
       "19           15539400.0  \n",
       "20           14345000.0  \n",
       "21           13631800.0  \n",
       "22           19165300.0  \n",
       "25           24124800.0  \n",
       "26           16456500.0  \n",
       "28           13300000.0  \n",
       "29           29800600.0  \n",
       "30           12833600.0  \n",
       "31           12810000.0  \n",
       "32           13398000.0  \n",
       "34            5663500.0  \n",
       "35           18233600.0  \n",
       "36           12178400.0  \n",
       "38            8258400.0  \n",
       "..                  ...  \n",
       "66            9317000.0  \n",
       "67           10308800.0  \n",
       "68            8711600.0  \n",
       "69            7591500.0  \n",
       "71            5340000.0  \n",
       "72            3784000.0  \n",
       "73             677000.0  \n",
       "77            6512000.0  \n",
       "78            5369000.0  \n",
       "79            9247300.0  \n",
       "80            5844600.0  \n",
       "81            6504000.0  \n",
       "82            4082400.0  \n",
       "83            5412000.0  \n",
       "84            5362800.0  \n",
       "85            9565800.0  \n",
       "86            7480000.0  \n",
       "87            1958400.0  \n",
       "88            2043600.0  \n",
       "89            5282400.0  \n",
       "91            3452600.0  \n",
       "92            5273400.0  \n",
       "93            2352000.0  \n",
       "94            1951100.0  \n",
       "95            1092000.0  \n",
       "96             520200.0  \n",
       "97             836600.0  \n",
       "98             753300.0  \n",
       "100             42400.0  \n",
       "101                 0.0  \n",
       "\n",
       "[81 rows x 11 columns]"
      ]
     },
     "execution_count": 33,
     "metadata": {},
     "output_type": "execute_result"
    }
   ],
   "source": [
    "with_previous_compensation=compensation[compensation[\"% Change\"] != \"(No previous year)\"]  \n",
    "with_previous_compensation[\"2014 Total Pay ($)\"]=(with_previous_compensation[\"% Change\"].apply(string_to_percentage)*with_previous_compensation[\"Total Pay ($)\"])+compensation[\"Total Pay ($)\"]\n",
    "with_previous_compensation"
   ]
  },
  {
   "cell_type": "code",
   "execution_count": 34,
   "metadata": {
    "for_assignment_type": "student"
   },
   "outputs": [],
   "source": [
    "# For reference, our solution involved more than just this one line of code\n",
    "\n",
    "with_previous_compensation = Table.from_df(with_previous_compensation)"
   ]
  },
  {
   "cell_type": "markdown",
   "metadata": {},
   "source": [
    "**Question 3.6.** <br/>What was the average pay of these CEOs in 2014?"
   ]
  },
  {
   "cell_type": "code",
   "execution_count": 35,
   "metadata": {},
   "outputs": [
    {
     "data": {
      "text/plain": [
       "11339681.481481481"
      ]
     },
     "execution_count": 35,
     "metadata": {},
     "output_type": "execute_result"
    }
   ],
   "source": [
    "average_pay_2014 = with_previous_compensation[\"2014 Total Pay ($)\"].mean()\n",
    "average_pay_2014"
   ]
  },
  {
   "cell_type": "markdown",
   "metadata": {},
   "source": [
    "## 4. Histograms\n",
    "Earlier, we computed the average pay among the CEOs in our 102-CEO dataset.  The average doesn't tell us everything about the amounts CEOs are paid, though.  Maybe just a few CEOs make the bulk of the money, even among these 102.\n",
    "\n",
    "We can use a *histogram* to display more information about a set of numbers.  The table method `hist` takes a single argument, the name of a column of numbers.  It produces a histogram of the numbers in that column.\n",
    "\n",
    "**Question 4.1.** <br/>Make a histogram of the pay of the CEOs in `compensation`."
   ]
  },
  {
   "cell_type": "code",
   "execution_count": 36,
   "metadata": {},
   "outputs": [
    {
     "data": {
      "text/plain": [
       "array([[<matplotlib.axes._subplots.AxesSubplot object at 0x000000000AFED278>]],\n",
       "      dtype=object)"
      ]
     },
     "execution_count": 36,
     "metadata": {},
     "output_type": "execute_result"
    },
    {
     "data": {
      "image/png": "[encoded data removed]",
      "text/plain": [
       "<Figure size 432x288 with 1 Axes>"
      ]
     },
     "metadata": {},
     "output_type": "display_data"
    }
   ],
   "source": [
    "compensation.hist(\"Total Pay ($)\")"
   ]
  },
  {
   "cell_type": "markdown",
   "metadata": {},
   "source": [
    "**Question 4.2.** <br/>Looking at the histogram, how many CEOs made more than \\$30 million?  (Answer the question by filling in your answer manually.  You'll have to do a bit of arithmetic; feel free to use Python as a calculator.)"
   ]
  },
  {
   "cell_type": "code",
   "execution_count": 37,
   "metadata": {},
   "outputs": [],
   "source": [
    "num_ceos_more_than_30_million = 5"
   ]
  },
  {
   "cell_type": "markdown",
   "metadata": {},
   "source": [
    "**Question 4.3.**<br/> Answer the same question with code.  *Hint:* Use the table method `where` and the property `num_rows`."
   ]
  },
  {
   "cell_type": "code",
   "execution_count": 38,
   "metadata": {},
   "outputs": [
    {
     "data": {
      "text/plain": [
       "5"
      ]
     },
     "execution_count": 38,
     "metadata": {},
     "output_type": "execute_result"
    }
   ],
   "source": [
    "num_ceos_more_than_30_million_2 = compensation[compensation[\"Total Pay ($)\"]>=30000000]\n",
    "num_ceos_more_than_30_million_2 = len(num_ceos_more_than_30_million_2)\n",
    "num_ceos_more_than_30_million_2"
   ]
  },
  {
   "cell_type": "code",
   "execution_count": 39,
   "metadata": {},
   "outputs": [],
   "source": [
    "compensation= Table.from_df(compensation)"
   ]
  },
  {
   "cell_type": "markdown",
   "metadata": {},
   "source": [
    "## 5. Submission"
   ]
  },
  {
   "cell_type": "markdown",
   "metadata": {},
   "source": [
    "Great job! :D You're finished with lab 4! Be sure to...\n",
    "- **run all the tests and verify that they all pass** (the next cell has a shortcut for that), \n",
    "- **Review the notebook one last time, we will be grading the final state of your notebook after the deadline**,\n",
    "- **Save and Checkpoint** from the `File` menu,"
   ]
  }
 ],
 "metadata": {
  "anaconda-cloud": {},
  "kernelspec": {
   "display_name": "Python 3",
   "language": "python",
   "name": "python3"
  },
  "language_info": {
   "codemirror_mode": {
    "name": "ipython",
    "version": 3
   },
   "file_extension": ".py",
   "mimetype": "text/x-python",
   "name": "python",
   "nbconvert_exporter": "python",
   "pygments_lexer": "ipython3",
   "version": "3.6.5"
  }
 },
 "nbformat": 4,
 "nbformat_minor": 1
}
